{
 "cells": [
  {
   "cell_type": "code",
   "execution_count": 1,
   "outputs": [],
   "source": [
    "import pandas as pd\n",
    "import numpy as np"
   ],
   "metadata": {
    "collapsed": false,
    "ExecuteTime": {
     "start_time": "2023-04-08T10:21:07.580513Z",
     "end_time": "2023-04-08T10:21:08.368517Z"
    }
   }
  },
  {
   "cell_type": "markdown",
   "source": [
    "# get"
   ],
   "metadata": {
    "collapsed": false
   }
  },
  {
   "cell_type": "markdown",
   "source": [
    "## get_tcm"
   ],
   "metadata": {
    "collapsed": false
   }
  },
  {
   "cell_type": "code",
   "execution_count": 53,
   "outputs": [],
   "source": [
    "# by = 'cn_name'\n",
    "by = 'HVMID'\n",
    "#items = '柴胡'\n",
    "items = tcm_chem_links['HVMID']\n",
    "\n",
    "if isinstance(items, str):\n",
    "    items = [items]"
   ],
   "metadata": {
    "collapsed": false,
    "ExecuteTime": {
     "start_time": "2023-04-08T10:51:12.849296Z",
     "end_time": "2023-04-08T10:51:12.875735Z"
    }
   }
  },
  {
   "cell_type": "code",
   "execution_count": 23,
   "outputs": [
    {
     "data": {
      "text/plain": "        HVMID   cn_name                pinyin_name                 en_name  \\\n0     HVM0000   阿比西尼亚刺桐      A BI XI NI YA CI TONG     Abyssinia Coralbean   \n1     HVM0001  阿比西尼亚牛筋果  A BI XI NI YA NIU JIN GUO    Abyssinia Harrisonia   \n2     HVM0002   阿尔及利亚棉蓟       A ER JI ER DA CHI JI  Algerian Cottonthistle   \n3     HVM0003   阿尔及利亚鸢尾     A ER JI LI YA YUAN WEI           Algerian Iris   \n4     HVM0004     阿富汗丁香        A FU HAN DING XIANG       Afghanistan Lilac   \n...       ...       ...                        ...                     ...   \n4661  HVM4661     总状土木香    ZONG ZHUANG TU MU XIANG          Racemose Inula   \n4662  HVM4662       走马芹                 ZOU MA QIN   Paucivitat Cowparsnip   \n4663  HVM4663     走稳唐松草      ZOU WEN TANG SONG CAO        Rugose Meadowrue   \n4664  HVM4664     最大万寿菊         ZUI DA WAN SHOU JU         Maxima Marigold   \n4665  HVM4665       酢浆草              ZUO JIANG CAO         Creeping Oxalis   \n\n                                      latin_name Properties Meridians  \\\n0                           Erythrina abyssinica        NaN       NaN   \n1                          Harrisonia abyssinica        NaN       NaN   \n2                           Onopordum algeriense        NaN       NaN   \n3                              Iris unguicularis        NaN       NaN   \n4                              Syringa afghanica        NaN       NaN   \n...                                          ...        ...       ...   \n4661                              Inula racemosa        NaN       NaN   \n4662  Heracleum moellendorffii var. paucivitatum        NaN       NaN   \n4663                          Thalictrum rugosum        NaN       NaN   \n4664                              Tagetes maxima        NaN       NaN   \n4665     Oxalis corniculata [Syn. Oxalis repens]        NaN       NaN   \n\n         UsePart                                           Function  \\\n0            NaN                                                NaN   \n1            NaN                                                NaN   \n2            NaN                                                NaN   \n3            NaN                                                NaN   \n4            NaN                                                NaN   \n...          ...                                                ...   \n4661        root                                See Inula helenium.   \n4662         NaN                                                NaN   \n4663         NaN                                                NaN   \n4664         NaN                                                NaN   \n4665  whole herb  To clear heat and disinhibit damp, cool blood ...   \n\n                                             Indication Toxicity  \\\n0                                                   NaN      NaN   \n1                                                   NaN      NaN   \n2                                                   NaN      NaN   \n3                                                   NaN      NaN   \n4                                                   NaN      NaN   \n...                                                 ...      ...   \n4661                               See Inula helenium .      NaN   \n4662                                                NaN      NaN   \n4663                                                NaN      NaN   \n4664                                                NaN      NaN   \n4665  Damp-heat diarrhea, dysentery, jaundice, st ra...      NaN   \n\n     Clinical_manifestations Therapeutic_en_class Therapeutic_cn_class  \\\n0                        NaN                  NaN                  NaN   \n1                        NaN                  NaN                  NaN   \n2                        NaN                  NaN                  NaN   \n3                        NaN                  NaN                  NaN   \n4                        NaN                  NaN                  NaN   \n...                      ...                  ...                  ...   \n4661                     NaN                  NaN                  NaN   \n4662                     NaN                  NaN                  NaN   \n4663                     NaN                  NaN                  NaN   \n4664                     NaN                  NaN                  NaN   \n4665                     NaN                  NaN                  NaN   \n\n         HERB_id TCMID_id  TCM_ID_id  SymMap_id  TCMSP_id  \n0     HERB000001      NaN     6286.0        NaN       NaN  \n1     HERB000002      NaN     4984.0        NaN       NaN  \n2     HERB000003      NaN     2229.0        NaN       NaN  \n3     HERB000005      NaN     5086.0        NaN       NaN  \n4     HERB000008      NaN     7658.0        NaN       NaN  \n...          ...      ...        ...        ...       ...  \n4661  HERB007255      NaN     1405.0        NaN       NaN  \n4662  HERB007257      NaN     4376.0        NaN       NaN  \n4663  HERB007258      NaN     1945.0        NaN       NaN  \n4664  HERB007261      NaN     4531.0        NaN       NaN  \n4665  HERB007263      NaN     6772.0        NaN       NaN  \n\n[4666 rows x 19 columns]",
      "text/html": "<div>\n<style scoped>\n    .dataframe tbody tr th:only-of-type {\n        vertical-align: middle;\n    }\n\n    .dataframe tbody tr th {\n        vertical-align: top;\n    }\n\n    .dataframe thead th {\n        text-align: right;\n    }\n</style>\n<table border=\"1\" class=\"dataframe\">\n  <thead>\n    <tr style=\"text-align: right;\">\n      <th></th>\n      <th>HVMID</th>\n      <th>cn_name</th>\n      <th>pinyin_name</th>\n      <th>en_name</th>\n      <th>latin_name</th>\n      <th>Properties</th>\n      <th>Meridians</th>\n      <th>UsePart</th>\n      <th>Function</th>\n      <th>Indication</th>\n      <th>Toxicity</th>\n      <th>Clinical_manifestations</th>\n      <th>Therapeutic_en_class</th>\n      <th>Therapeutic_cn_class</th>\n      <th>HERB_id</th>\n      <th>TCMID_id</th>\n      <th>TCM_ID_id</th>\n      <th>SymMap_id</th>\n      <th>TCMSP_id</th>\n    </tr>\n  </thead>\n  <tbody>\n    <tr>\n      <th>0</th>\n      <td>HVM0000</td>\n      <td>阿比西尼亚刺桐</td>\n      <td>A BI XI NI YA CI TONG</td>\n      <td>Abyssinia Coralbean</td>\n      <td>Erythrina abyssinica</td>\n      <td>NaN</td>\n      <td>NaN</td>\n      <td>NaN</td>\n      <td>NaN</td>\n      <td>NaN</td>\n      <td>NaN</td>\n      <td>NaN</td>\n      <td>NaN</td>\n      <td>NaN</td>\n      <td>HERB000001</td>\n      <td>NaN</td>\n      <td>6286.0</td>\n      <td>NaN</td>\n      <td>NaN</td>\n    </tr>\n    <tr>\n      <th>1</th>\n      <td>HVM0001</td>\n      <td>阿比西尼亚牛筋果</td>\n      <td>A BI XI NI YA NIU JIN GUO</td>\n      <td>Abyssinia Harrisonia</td>\n      <td>Harrisonia abyssinica</td>\n      <td>NaN</td>\n      <td>NaN</td>\n      <td>NaN</td>\n      <td>NaN</td>\n      <td>NaN</td>\n      <td>NaN</td>\n      <td>NaN</td>\n      <td>NaN</td>\n      <td>NaN</td>\n      <td>HERB000002</td>\n      <td>NaN</td>\n      <td>4984.0</td>\n      <td>NaN</td>\n      <td>NaN</td>\n    </tr>\n    <tr>\n      <th>2</th>\n      <td>HVM0002</td>\n      <td>阿尔及利亚棉蓟</td>\n      <td>A ER JI ER DA CHI JI</td>\n      <td>Algerian Cottonthistle</td>\n      <td>Onopordum algeriense</td>\n      <td>NaN</td>\n      <td>NaN</td>\n      <td>NaN</td>\n      <td>NaN</td>\n      <td>NaN</td>\n      <td>NaN</td>\n      <td>NaN</td>\n      <td>NaN</td>\n      <td>NaN</td>\n      <td>HERB000003</td>\n      <td>NaN</td>\n      <td>2229.0</td>\n      <td>NaN</td>\n      <td>NaN</td>\n    </tr>\n    <tr>\n      <th>3</th>\n      <td>HVM0003</td>\n      <td>阿尔及利亚鸢尾</td>\n      <td>A ER JI LI YA YUAN WEI</td>\n      <td>Algerian Iris</td>\n      <td>Iris unguicularis</td>\n      <td>NaN</td>\n      <td>NaN</td>\n      <td>NaN</td>\n      <td>NaN</td>\n      <td>NaN</td>\n      <td>NaN</td>\n      <td>NaN</td>\n      <td>NaN</td>\n      <td>NaN</td>\n      <td>HERB000005</td>\n      <td>NaN</td>\n      <td>5086.0</td>\n      <td>NaN</td>\n      <td>NaN</td>\n    </tr>\n    <tr>\n      <th>4</th>\n      <td>HVM0004</td>\n      <td>阿富汗丁香</td>\n      <td>A FU HAN DING XIANG</td>\n      <td>Afghanistan Lilac</td>\n      <td>Syringa afghanica</td>\n      <td>NaN</td>\n      <td>NaN</td>\n      <td>NaN</td>\n      <td>NaN</td>\n      <td>NaN</td>\n      <td>NaN</td>\n      <td>NaN</td>\n      <td>NaN</td>\n      <td>NaN</td>\n      <td>HERB000008</td>\n      <td>NaN</td>\n      <td>7658.0</td>\n      <td>NaN</td>\n      <td>NaN</td>\n    </tr>\n    <tr>\n      <th>...</th>\n      <td>...</td>\n      <td>...</td>\n      <td>...</td>\n      <td>...</td>\n      <td>...</td>\n      <td>...</td>\n      <td>...</td>\n      <td>...</td>\n      <td>...</td>\n      <td>...</td>\n      <td>...</td>\n      <td>...</td>\n      <td>...</td>\n      <td>...</td>\n      <td>...</td>\n      <td>...</td>\n      <td>...</td>\n      <td>...</td>\n      <td>...</td>\n    </tr>\n    <tr>\n      <th>4661</th>\n      <td>HVM4661</td>\n      <td>总状土木香</td>\n      <td>ZONG ZHUANG TU MU XIANG</td>\n      <td>Racemose Inula</td>\n      <td>Inula racemosa</td>\n      <td>NaN</td>\n      <td>NaN</td>\n      <td>root</td>\n      <td>See Inula helenium.</td>\n      <td>See Inula helenium .</td>\n      <td>NaN</td>\n      <td>NaN</td>\n      <td>NaN</td>\n      <td>NaN</td>\n      <td>HERB007255</td>\n      <td>NaN</td>\n      <td>1405.0</td>\n      <td>NaN</td>\n      <td>NaN</td>\n    </tr>\n    <tr>\n      <th>4662</th>\n      <td>HVM4662</td>\n      <td>走马芹</td>\n      <td>ZOU MA QIN</td>\n      <td>Paucivitat Cowparsnip</td>\n      <td>Heracleum moellendorffii var. paucivitatum</td>\n      <td>NaN</td>\n      <td>NaN</td>\n      <td>NaN</td>\n      <td>NaN</td>\n      <td>NaN</td>\n      <td>NaN</td>\n      <td>NaN</td>\n      <td>NaN</td>\n      <td>NaN</td>\n      <td>HERB007257</td>\n      <td>NaN</td>\n      <td>4376.0</td>\n      <td>NaN</td>\n      <td>NaN</td>\n    </tr>\n    <tr>\n      <th>4663</th>\n      <td>HVM4663</td>\n      <td>走稳唐松草</td>\n      <td>ZOU WEN TANG SONG CAO</td>\n      <td>Rugose Meadowrue</td>\n      <td>Thalictrum rugosum</td>\n      <td>NaN</td>\n      <td>NaN</td>\n      <td>NaN</td>\n      <td>NaN</td>\n      <td>NaN</td>\n      <td>NaN</td>\n      <td>NaN</td>\n      <td>NaN</td>\n      <td>NaN</td>\n      <td>HERB007258</td>\n      <td>NaN</td>\n      <td>1945.0</td>\n      <td>NaN</td>\n      <td>NaN</td>\n    </tr>\n    <tr>\n      <th>4664</th>\n      <td>HVM4664</td>\n      <td>最大万寿菊</td>\n      <td>ZUI DA WAN SHOU JU</td>\n      <td>Maxima Marigold</td>\n      <td>Tagetes maxima</td>\n      <td>NaN</td>\n      <td>NaN</td>\n      <td>NaN</td>\n      <td>NaN</td>\n      <td>NaN</td>\n      <td>NaN</td>\n      <td>NaN</td>\n      <td>NaN</td>\n      <td>NaN</td>\n      <td>HERB007261</td>\n      <td>NaN</td>\n      <td>4531.0</td>\n      <td>NaN</td>\n      <td>NaN</td>\n    </tr>\n    <tr>\n      <th>4665</th>\n      <td>HVM4665</td>\n      <td>酢浆草</td>\n      <td>ZUO JIANG CAO</td>\n      <td>Creeping Oxalis</td>\n      <td>Oxalis corniculata [Syn. Oxalis repens]</td>\n      <td>NaN</td>\n      <td>NaN</td>\n      <td>whole herb</td>\n      <td>To clear heat and disinhibit damp, cool blood ...</td>\n      <td>Damp-heat diarrhea, dysentery, jaundice, st ra...</td>\n      <td>NaN</td>\n      <td>NaN</td>\n      <td>NaN</td>\n      <td>NaN</td>\n      <td>HERB007263</td>\n      <td>NaN</td>\n      <td>6772.0</td>\n      <td>NaN</td>\n      <td>NaN</td>\n    </tr>\n  </tbody>\n</table>\n<p>4666 rows × 19 columns</p>\n</div>"
     },
     "execution_count": 23,
     "metadata": {},
     "output_type": "execute_result"
    }
   ],
   "source": [
    "tcm_all = pd.read_csv(r'src/herbiv/data/HerbiV_tcm.csv')\n",
    "tcm_all"
   ],
   "metadata": {
    "collapsed": false,
    "ExecuteTime": {
     "start_time": "2023-04-08T10:36:41.672722Z",
     "end_time": "2023-04-08T10:36:41.764331Z"
    }
   }
  },
  {
   "cell_type": "code",
   "execution_count": 54,
   "outputs": [
    {
     "data": {
      "text/plain": "        HVMID  cn_name               pinyin_name  \\\n0     HVM0008  阿拉伯胶金合欢  A LA BO JIAO JIN HE HUAN   \n1     HVM0009   阿拉伯金合欢       A LA BO JIN HE HUAN   \n2     HVM0010   阿拉伯婆婆纳          A LA BO PO PO NA   \n3     HVM0018      矮地茶                 AI DI CHA   \n4     HVM0026       艾实                    AI SHI   \n...       ...      ...                       ...   \n1669  HVM4640     紫葳茎叶            ZI WEI JING YE   \n1670  HVM4654      紫锥花               ZI ZHUI HUA   \n1671  HVM4656       棕榈                   ZONG LV   \n1672  HVM4657      棕榈皮                ZONG LV PI   \n1673  HVM4658      棕榈炭               ZONG LV TAN   \n\n                                                en_name  \\\n0                                       Gum-arabic Tree   \n1                                        Arabian Acacia   \n2                                        Iran Speedwell   \n3                                 Japanese Ardisia Herb   \n4                               Fructus Artemiiae argyi   \n...                                                 ...   \n1669                   Chinese Trumpetcreeper Stem-leaf   \n1670                                          Echinacea   \n1671                       Fortune Windmillpalm Petiole   \n1672                               Fortune Windmillpalm   \n1673  Carbonized palm fiber, Carbonized petiole of w...   \n\n                                      latin_name             Properties  \\\n0                                Acacia nilotica                    NaN   \n1                                 Acacia arabica                    NaN   \n2                               Veronica persica                    NaN   \n3                             Ardisiae japonicae  Mild; Pungent; Bitter   \n4                                            NaN                    NaN   \n...                                          ...                    ...   \n1669                         Campsis grandiflora                    NaN   \n1670                          Echinacea purpurea                    NaN   \n1671                        Petiolus Trachycarpi                    NaN   \n1672                       Trachycarpus fortunei  Mild; Bitter; Punkery   \n1673  Carbonized Vagina Trachycarpus Wagnerianus  Mild; Bitter; Punkery   \n\n                         Meridians                          UsePart  \\\n0                              NaN                              NaN   \n1                              NaN                              NaN   \n2                              NaN                       whole herb   \n3                      Lung; Liver                              NaN   \n4                              NaN                              NaN   \n...                            ...                              ...   \n1669                           NaN                        stem-leaf   \n1670                           NaN       root of Echinacea purpurea   \n1671                           NaN  Trachycarpus fortunei H. Wendl.   \n1672  Lung; Large Intestine; Liver      petiole and fibre of sheath   \n1673  Lung; Large Intestine; Liver  Trachycarpus fortunei H. wendl.   \n\n                                               Function  \\\n0                                                   NaN   \n1                                                   NaN   \n2     To dispel wind and eliminate damp, strengthen ...   \n3     1. To eliminate phlegm and relieving cough.2. ...   \n4                                                   NaN   \n...                                                 ...   \n1669       To clear heat, cool blood, dissipate stasis.   \n1670  Used as a general nonspecific stimulant to the...   \n1671  Treatment of spitting of blood, epistaxis, hem...   \n1672        To promote contraction and stanch bleeding.   \n1673  Treatment of: 1. Hemorrhages due to extravasat...   \n\n                                             Indication Toxicity  \\\n0                                                   NaN      NaN   \n1                                                   NaN      NaN   \n2     Wind-damp impediment pain, kidney vacuity lumb...      NaN   \n3     1. Bergenin, an active comonent, is an expecto...      NaN   \n4                                                   NaN      NaN   \n...                                                 ...      ...   \n1669  Wind due to blood heat, itchy body, wind papul...      NaN   \n1670  Used as a general nonspecific stimulant to the...      NaN   \n1671  Treatment of spitting of blood, epistaxis, hem...      NaN   \n1672  Blood ejection, spontaneous external bleeding,...      NaN   \n1673  Treatment of: 1. Hemorrhages due to extravasat...      NaN   \n\n                                Clinical_manifestations  \\\n0                                                   NaN   \n1                                                   NaN   \n2                                                   NaN   \n3     1. Bergenin, an active comonent, is an expecto...   \n4                                                   NaN   \n...                                                 ...   \n1669                                                NaN   \n1670                                                NaN   \n1671                                                NaN   \n1672                                                NaN   \n1673                                                NaN   \n\n            Therapeutic_en_class Therapeutic_cn_class     HERB_id   TCMID_id  \\\n0                            NaN                  NaN  HERB000018        NaN   \n1                            NaN                  NaN  HERB000019        NaN   \n2                            NaN                  NaN  HERB000020        NaN   \n3     Antitussive Antiasthmetics                止咳平喘药  HERB000036  SMHB00001   \n4                            NaN                  NaN  HERB000057        NaN   \n...                          ...                  ...         ...        ...   \n1669                         NaN                  NaN  HERB007225        NaN   \n1670                         NaN                  NaN  HERB007240        NaN   \n1671            Bleeding control                   止血  HERB007244        NaN   \n1672            Bleeding control                   止血  HERB007245        NaN   \n1673            Bleeding control                   止血  HERB007246        NaN   \n\n      TCM_ID_id  SymMap_id  TCMSP_id  \n0        1316.0        NaN       NaN  \n1        5352.0        NaN       NaN  \n2        7039.0        NaN       NaN  \n3        7629.0        1.0       2.0  \n4        6848.0        NaN       NaN  \n...         ...        ...       ...  \n1669     7994.0        NaN       NaN  \n1670     5430.0        NaN    1100.0  \n1671     6499.0        NaN    1098.0  \n1672     2369.0        NaN     189.0  \n1673     2208.0        NaN     190.0  \n\n[1674 rows x 19 columns]",
      "text/html": "<div>\n<style scoped>\n    .dataframe tbody tr th:only-of-type {\n        vertical-align: middle;\n    }\n\n    .dataframe tbody tr th {\n        vertical-align: top;\n    }\n\n    .dataframe thead th {\n        text-align: right;\n    }\n</style>\n<table border=\"1\" class=\"dataframe\">\n  <thead>\n    <tr style=\"text-align: right;\">\n      <th></th>\n      <th>HVMID</th>\n      <th>cn_name</th>\n      <th>pinyin_name</th>\n      <th>en_name</th>\n      <th>latin_name</th>\n      <th>Properties</th>\n      <th>Meridians</th>\n      <th>UsePart</th>\n      <th>Function</th>\n      <th>Indication</th>\n      <th>Toxicity</th>\n      <th>Clinical_manifestations</th>\n      <th>Therapeutic_en_class</th>\n      <th>Therapeutic_cn_class</th>\n      <th>HERB_id</th>\n      <th>TCMID_id</th>\n      <th>TCM_ID_id</th>\n      <th>SymMap_id</th>\n      <th>TCMSP_id</th>\n    </tr>\n  </thead>\n  <tbody>\n    <tr>\n      <th>0</th>\n      <td>HVM0008</td>\n      <td>阿拉伯胶金合欢</td>\n      <td>A LA BO JIAO JIN HE HUAN</td>\n      <td>Gum-arabic Tree</td>\n      <td>Acacia nilotica</td>\n      <td>NaN</td>\n      <td>NaN</td>\n      <td>NaN</td>\n      <td>NaN</td>\n      <td>NaN</td>\n      <td>NaN</td>\n      <td>NaN</td>\n      <td>NaN</td>\n      <td>NaN</td>\n      <td>HERB000018</td>\n      <td>NaN</td>\n      <td>1316.0</td>\n      <td>NaN</td>\n      <td>NaN</td>\n    </tr>\n    <tr>\n      <th>1</th>\n      <td>HVM0009</td>\n      <td>阿拉伯金合欢</td>\n      <td>A LA BO JIN HE HUAN</td>\n      <td>Arabian Acacia</td>\n      <td>Acacia arabica</td>\n      <td>NaN</td>\n      <td>NaN</td>\n      <td>NaN</td>\n      <td>NaN</td>\n      <td>NaN</td>\n      <td>NaN</td>\n      <td>NaN</td>\n      <td>NaN</td>\n      <td>NaN</td>\n      <td>HERB000019</td>\n      <td>NaN</td>\n      <td>5352.0</td>\n      <td>NaN</td>\n      <td>NaN</td>\n    </tr>\n    <tr>\n      <th>2</th>\n      <td>HVM0010</td>\n      <td>阿拉伯婆婆纳</td>\n      <td>A LA BO PO PO NA</td>\n      <td>Iran Speedwell</td>\n      <td>Veronica persica</td>\n      <td>NaN</td>\n      <td>NaN</td>\n      <td>whole herb</td>\n      <td>To dispel wind and eliminate damp, strengthen ...</td>\n      <td>Wind-damp impediment pain, kidney vacuity lumb...</td>\n      <td>NaN</td>\n      <td>NaN</td>\n      <td>NaN</td>\n      <td>NaN</td>\n      <td>HERB000020</td>\n      <td>NaN</td>\n      <td>7039.0</td>\n      <td>NaN</td>\n      <td>NaN</td>\n    </tr>\n    <tr>\n      <th>3</th>\n      <td>HVM0018</td>\n      <td>矮地茶</td>\n      <td>AI DI CHA</td>\n      <td>Japanese Ardisia Herb</td>\n      <td>Ardisiae japonicae</td>\n      <td>Mild; Pungent; Bitter</td>\n      <td>Lung; Liver</td>\n      <td>NaN</td>\n      <td>1. To eliminate phlegm and relieving cough.2. ...</td>\n      <td>1. Bergenin, an active comonent, is an expecto...</td>\n      <td>NaN</td>\n      <td>1. Bergenin, an active comonent, is an expecto...</td>\n      <td>Antitussive Antiasthmetics</td>\n      <td>止咳平喘药</td>\n      <td>HERB000036</td>\n      <td>SMHB00001</td>\n      <td>7629.0</td>\n      <td>1.0</td>\n      <td>2.0</td>\n    </tr>\n    <tr>\n      <th>4</th>\n      <td>HVM0026</td>\n      <td>艾实</td>\n      <td>AI SHI</td>\n      <td>Fructus Artemiiae argyi</td>\n      <td>NaN</td>\n      <td>NaN</td>\n      <td>NaN</td>\n      <td>NaN</td>\n      <td>NaN</td>\n      <td>NaN</td>\n      <td>NaN</td>\n      <td>NaN</td>\n      <td>NaN</td>\n      <td>NaN</td>\n      <td>HERB000057</td>\n      <td>NaN</td>\n      <td>6848.0</td>\n      <td>NaN</td>\n      <td>NaN</td>\n    </tr>\n    <tr>\n      <th>...</th>\n      <td>...</td>\n      <td>...</td>\n      <td>...</td>\n      <td>...</td>\n      <td>...</td>\n      <td>...</td>\n      <td>...</td>\n      <td>...</td>\n      <td>...</td>\n      <td>...</td>\n      <td>...</td>\n      <td>...</td>\n      <td>...</td>\n      <td>...</td>\n      <td>...</td>\n      <td>...</td>\n      <td>...</td>\n      <td>...</td>\n      <td>...</td>\n    </tr>\n    <tr>\n      <th>1669</th>\n      <td>HVM4640</td>\n      <td>紫葳茎叶</td>\n      <td>ZI WEI JING YE</td>\n      <td>Chinese Trumpetcreeper Stem-leaf</td>\n      <td>Campsis grandiflora</td>\n      <td>NaN</td>\n      <td>NaN</td>\n      <td>stem-leaf</td>\n      <td>To clear heat, cool blood, dissipate stasis.</td>\n      <td>Wind due to blood heat, itchy body, wind papul...</td>\n      <td>NaN</td>\n      <td>NaN</td>\n      <td>NaN</td>\n      <td>NaN</td>\n      <td>HERB007225</td>\n      <td>NaN</td>\n      <td>7994.0</td>\n      <td>NaN</td>\n      <td>NaN</td>\n    </tr>\n    <tr>\n      <th>1670</th>\n      <td>HVM4654</td>\n      <td>紫锥花</td>\n      <td>ZI ZHUI HUA</td>\n      <td>Echinacea</td>\n      <td>Echinacea purpurea</td>\n      <td>NaN</td>\n      <td>NaN</td>\n      <td>root of Echinacea purpurea</td>\n      <td>Used as a general nonspecific stimulant to the...</td>\n      <td>Used as a general nonspecific stimulant to the...</td>\n      <td>NaN</td>\n      <td>NaN</td>\n      <td>NaN</td>\n      <td>NaN</td>\n      <td>HERB007240</td>\n      <td>NaN</td>\n      <td>5430.0</td>\n      <td>NaN</td>\n      <td>1100.0</td>\n    </tr>\n    <tr>\n      <th>1671</th>\n      <td>HVM4656</td>\n      <td>棕榈</td>\n      <td>ZONG LV</td>\n      <td>Fortune Windmillpalm Petiole</td>\n      <td>Petiolus Trachycarpi</td>\n      <td>NaN</td>\n      <td>NaN</td>\n      <td>Trachycarpus fortunei H. Wendl.</td>\n      <td>Treatment of spitting of blood, epistaxis, hem...</td>\n      <td>Treatment of spitting of blood, epistaxis, hem...</td>\n      <td>NaN</td>\n      <td>NaN</td>\n      <td>Bleeding control</td>\n      <td>止血</td>\n      <td>HERB007244</td>\n      <td>NaN</td>\n      <td>6499.0</td>\n      <td>NaN</td>\n      <td>1098.0</td>\n    </tr>\n    <tr>\n      <th>1672</th>\n      <td>HVM4657</td>\n      <td>棕榈皮</td>\n      <td>ZONG LV PI</td>\n      <td>Fortune Windmillpalm</td>\n      <td>Trachycarpus fortunei</td>\n      <td>Mild; Bitter; Punkery</td>\n      <td>Lung; Large Intestine; Liver</td>\n      <td>petiole and fibre of sheath</td>\n      <td>To promote contraction and stanch bleeding.</td>\n      <td>Blood ejection, spontaneous external bleeding,...</td>\n      <td>NaN</td>\n      <td>NaN</td>\n      <td>Bleeding control</td>\n      <td>止血</td>\n      <td>HERB007245</td>\n      <td>NaN</td>\n      <td>2369.0</td>\n      <td>NaN</td>\n      <td>189.0</td>\n    </tr>\n    <tr>\n      <th>1673</th>\n      <td>HVM4658</td>\n      <td>棕榈炭</td>\n      <td>ZONG LV TAN</td>\n      <td>Carbonized palm fiber, Carbonized petiole of w...</td>\n      <td>Carbonized Vagina Trachycarpus Wagnerianus</td>\n      <td>Mild; Bitter; Punkery</td>\n      <td>Lung; Large Intestine; Liver</td>\n      <td>Trachycarpus fortunei H. wendl.</td>\n      <td>Treatment of: 1. Hemorrhages due to extravasat...</td>\n      <td>Treatment of: 1. Hemorrhages due to extravasat...</td>\n      <td>NaN</td>\n      <td>NaN</td>\n      <td>Bleeding control</td>\n      <td>止血</td>\n      <td>HERB007246</td>\n      <td>NaN</td>\n      <td>2208.0</td>\n      <td>NaN</td>\n      <td>190.0</td>\n    </tr>\n  </tbody>\n</table>\n<p>1674 rows × 19 columns</p>\n</div>"
     },
     "execution_count": 54,
     "metadata": {},
     "output_type": "execute_result"
    }
   ],
   "source": [
    "tcm = tcm_all.loc[tcm_all[by].isin(items)].copy()\n",
    "tcm.index = range(tcm.shape[0])\n",
    "tcm"
   ],
   "metadata": {
    "collapsed": false,
    "ExecuteTime": {
     "start_time": "2023-04-08T10:51:16.485548Z",
     "end_time": "2023-04-08T10:51:16.523643Z"
    }
   }
  },
  {
   "cell_type": "markdown",
   "source": [
    "## get_tcm_chem_links"
   ],
   "metadata": {
    "collapsed": false
   }
  },
  {
   "cell_type": "code",
   "execution_count": 49,
   "outputs": [],
   "source": [
    "# by = 'HVMID'\n",
    "by = 'HVCID'\n",
    "# items = tcm['HVMID']\n",
    "items = chem['HVCID']"
   ],
   "metadata": {
    "collapsed": false,
    "ExecuteTime": {
     "start_time": "2023-04-08T10:49:23.836210Z",
     "end_time": "2023-04-08T10:49:23.871262Z"
    }
   }
  },
  {
   "cell_type": "code",
   "execution_count": 50,
   "outputs": [
    {
     "data": {
      "text/plain": "         HVMID    HVCID\n0      HVM0000  HVC6510\n1      HVM0000  HVC5383\n2      HVM0000  HVC3262\n3      HVM0000  HVC5217\n4      HVM0000  HVC4691\n...        ...      ...\n60569  HVM4663  HVC2710\n60570  HVM4664  HVC6074\n60571  HVM4664  HVC5925\n60572  HVM4665  HVC1964\n60573  HVM4665  HVC0247\n\n[60574 rows x 2 columns]",
      "text/html": "<div>\n<style scoped>\n    .dataframe tbody tr th:only-of-type {\n        vertical-align: middle;\n    }\n\n    .dataframe tbody tr th {\n        vertical-align: top;\n    }\n\n    .dataframe thead th {\n        text-align: right;\n    }\n</style>\n<table border=\"1\" class=\"dataframe\">\n  <thead>\n    <tr style=\"text-align: right;\">\n      <th></th>\n      <th>HVMID</th>\n      <th>HVCID</th>\n    </tr>\n  </thead>\n  <tbody>\n    <tr>\n      <th>0</th>\n      <td>HVM0000</td>\n      <td>HVC6510</td>\n    </tr>\n    <tr>\n      <th>1</th>\n      <td>HVM0000</td>\n      <td>HVC5383</td>\n    </tr>\n    <tr>\n      <th>2</th>\n      <td>HVM0000</td>\n      <td>HVC3262</td>\n    </tr>\n    <tr>\n      <th>3</th>\n      <td>HVM0000</td>\n      <td>HVC5217</td>\n    </tr>\n    <tr>\n      <th>4</th>\n      <td>HVM0000</td>\n      <td>HVC4691</td>\n    </tr>\n    <tr>\n      <th>...</th>\n      <td>...</td>\n      <td>...</td>\n    </tr>\n    <tr>\n      <th>60569</th>\n      <td>HVM4663</td>\n      <td>HVC2710</td>\n    </tr>\n    <tr>\n      <th>60570</th>\n      <td>HVM4664</td>\n      <td>HVC6074</td>\n    </tr>\n    <tr>\n      <th>60571</th>\n      <td>HVM4664</td>\n      <td>HVC5925</td>\n    </tr>\n    <tr>\n      <th>60572</th>\n      <td>HVM4665</td>\n      <td>HVC1964</td>\n    </tr>\n    <tr>\n      <th>60573</th>\n      <td>HVM4665</td>\n      <td>HVC0247</td>\n    </tr>\n  </tbody>\n</table>\n<p>60574 rows × 2 columns</p>\n</div>"
     },
     "execution_count": 50,
     "metadata": {},
     "output_type": "execute_result"
    }
   ],
   "source": [
    "tcm_chem_links_all = pd.read_csv(r'src/herbiv/data/HerbiV_tcm_chemical_links.csv')\n",
    "tcm_chem_links_all"
   ],
   "metadata": {
    "collapsed": false,
    "ExecuteTime": {
     "start_time": "2023-04-08T10:49:34.890510Z",
     "end_time": "2023-04-08T10:49:34.959004Z"
    }
   }
  },
  {
   "cell_type": "code",
   "execution_count": 51,
   "outputs": [
    {
     "data": {
      "text/plain": "        HVMID    HVCID\n0     HVM0008  HVC0292\n1     HVM0008  HVC0296\n2     HVM0008  HVC5451\n3     HVM0009  HVC0085\n4     HVM0010  HVC0101\n...       ...      ...\n6510  HVM4656  HVC0647\n6511  HVM4657  HVC0292\n6512  HVM4657  HVC0060\n6513  HVM4657  HVC0085\n6514  HVM4658  HVC0060\n\n[6515 rows x 2 columns]",
      "text/html": "<div>\n<style scoped>\n    .dataframe tbody tr th:only-of-type {\n        vertical-align: middle;\n    }\n\n    .dataframe tbody tr th {\n        vertical-align: top;\n    }\n\n    .dataframe thead th {\n        text-align: right;\n    }\n</style>\n<table border=\"1\" class=\"dataframe\">\n  <thead>\n    <tr style=\"text-align: right;\">\n      <th></th>\n      <th>HVMID</th>\n      <th>HVCID</th>\n    </tr>\n  </thead>\n  <tbody>\n    <tr>\n      <th>0</th>\n      <td>HVM0008</td>\n      <td>HVC0292</td>\n    </tr>\n    <tr>\n      <th>1</th>\n      <td>HVM0008</td>\n      <td>HVC0296</td>\n    </tr>\n    <tr>\n      <th>2</th>\n      <td>HVM0008</td>\n      <td>HVC5451</td>\n    </tr>\n    <tr>\n      <th>3</th>\n      <td>HVM0009</td>\n      <td>HVC0085</td>\n    </tr>\n    <tr>\n      <th>4</th>\n      <td>HVM0010</td>\n      <td>HVC0101</td>\n    </tr>\n    <tr>\n      <th>...</th>\n      <td>...</td>\n      <td>...</td>\n    </tr>\n    <tr>\n      <th>6510</th>\n      <td>HVM4656</td>\n      <td>HVC0647</td>\n    </tr>\n    <tr>\n      <th>6511</th>\n      <td>HVM4657</td>\n      <td>HVC0292</td>\n    </tr>\n    <tr>\n      <th>6512</th>\n      <td>HVM4657</td>\n      <td>HVC0060</td>\n    </tr>\n    <tr>\n      <th>6513</th>\n      <td>HVM4657</td>\n      <td>HVC0085</td>\n    </tr>\n    <tr>\n      <th>6514</th>\n      <td>HVM4658</td>\n      <td>HVC0060</td>\n    </tr>\n  </tbody>\n</table>\n<p>6515 rows × 2 columns</p>\n</div>"
     },
     "execution_count": 51,
     "metadata": {},
     "output_type": "execute_result"
    }
   ],
   "source": [
    "tcm_chem_links = tcm_chem_links_all.loc[tcm_chem_links_all[by].isin(items)].copy()\n",
    "tcm_chem_links.index = range(tcm_chem_links.shape[0])\n",
    "tcm_chem_links"
   ],
   "metadata": {
    "collapsed": false,
    "ExecuteTime": {
     "start_time": "2023-04-08T10:49:54.805015Z",
     "end_time": "2023-04-08T10:49:54.873190Z"
    }
   }
  },
  {
   "cell_type": "markdown",
   "source": [
    "## get_chemicals"
   ],
   "metadata": {
    "collapsed": false
   }
  },
  {
   "cell_type": "code",
   "execution_count": 46,
   "outputs": [],
   "source": [
    "by = 'HVCID'\n",
    "# items = tcm_chem_links['HVCID']\n",
    "items = chem_protein_links['HVCID']"
   ],
   "metadata": {
    "collapsed": false,
    "ExecuteTime": {
     "start_time": "2023-04-08T10:47:43.289547Z",
     "end_time": "2023-04-08T10:47:43.323562Z"
    }
   }
  },
  {
   "cell_type": "code",
   "execution_count": 47,
   "outputs": [
    {
     "data": {
      "text/plain": "         HVCID                                    Name  \\\n0      HVC0000       2,3-dihydro-2,3-dihydroxybenzoate   \n1      HVC0001                      1-aminopropan-2-ol   \n2      HVC0002           3-amino-2-oxopropyl phosphate   \n3      HVC0003                      1,2-dichloroethane   \n4      HVC0003                      1,2-dichloroethane   \n...        ...                                     ...   \n13093  HVC6842                          nomilinic acid   \n13094  HVC6843  3'-methoxy-4',5'-methylenedioxyflavone   \n13095  HVC6844                       glucosylceramides   \n13096  HVC6845                                 nezukol   \n13097  HVC6846                          merresectine C   \n\n                                                  SMILES CAS_id   PubChem_id  \\\n0                               C1=CC(C(C(=C1)C(=O)O)O)O    NaN          NaN   \n1                                                CC(CN)O    NaN          NaN   \n2                                   C(C(=O)COP(=O)(O)O)N    NaN          NaN   \n3                                               C(CCl)Cl    NaN          NaN   \n4                                               C(CCl)Cl    NaN          NaN   \n...                                                  ...    ...          ...   \n13093  CC(=O)OC(CC(=O)O)C1(C2CCC3(C(OC(=O)C4C3(C2(C(=...    NaN  131751863.0   \n13094         COC1=CC(=CC2=C1OCO2)C3=CC(=O)C4=CC=CC=C4O3    NaN   86059964.0   \n13095                 C(C1C(C(C(C(O1)OCC(CO)NC=O)O)O)O)O    NaN          NaN   \n13096             CC1(CCCC2(C1CCC3(C2CCC(C3)(C)C=C)O)C)C    NaN   13969544.0   \n13097  CC(=CCC1=CC(=CC(=C1O)CC=C(C)C)C(=O)OC2CC3CCC(C...    NaN   91751184.0   \n\n      DrugBank_id     STITCH_id     HERB_id  \n0             NaN  CIDm00000003  HBIN030460  \n1             NaN  CIDm00000004  HBIN010004  \n2             NaN  CIDm00000005  HBIN011678  \n3             NaN  CIDm00000011  HBIN000277  \n4             NaN  CIDm00000011  HBIN000287  \n...           ...           ...         ...  \n13093         NaN  CIDm76315917  HBIN037209  \n13094         NaN  CIDm86059964  HBIN008794  \n13095         NaN  CIDm91666322  HBIN018132  \n13096         NaN  CIDm91746481  HBIN036849  \n13097         NaN  CIDm91751184  HBIN034765  \n\n[13098 rows x 8 columns]",
      "text/html": "<div>\n<style scoped>\n    .dataframe tbody tr th:only-of-type {\n        vertical-align: middle;\n    }\n\n    .dataframe tbody tr th {\n        vertical-align: top;\n    }\n\n    .dataframe thead th {\n        text-align: right;\n    }\n</style>\n<table border=\"1\" class=\"dataframe\">\n  <thead>\n    <tr style=\"text-align: right;\">\n      <th></th>\n      <th>HVCID</th>\n      <th>Name</th>\n      <th>SMILES</th>\n      <th>CAS_id</th>\n      <th>PubChem_id</th>\n      <th>DrugBank_id</th>\n      <th>STITCH_id</th>\n      <th>HERB_id</th>\n    </tr>\n  </thead>\n  <tbody>\n    <tr>\n      <th>0</th>\n      <td>HVC0000</td>\n      <td>2,3-dihydro-2,3-dihydroxybenzoate</td>\n      <td>C1=CC(C(C(=C1)C(=O)O)O)O</td>\n      <td>NaN</td>\n      <td>NaN</td>\n      <td>NaN</td>\n      <td>CIDm00000003</td>\n      <td>HBIN030460</td>\n    </tr>\n    <tr>\n      <th>1</th>\n      <td>HVC0001</td>\n      <td>1-aminopropan-2-ol</td>\n      <td>CC(CN)O</td>\n      <td>NaN</td>\n      <td>NaN</td>\n      <td>NaN</td>\n      <td>CIDm00000004</td>\n      <td>HBIN010004</td>\n    </tr>\n    <tr>\n      <th>2</th>\n      <td>HVC0002</td>\n      <td>3-amino-2-oxopropyl phosphate</td>\n      <td>C(C(=O)COP(=O)(O)O)N</td>\n      <td>NaN</td>\n      <td>NaN</td>\n      <td>NaN</td>\n      <td>CIDm00000005</td>\n      <td>HBIN011678</td>\n    </tr>\n    <tr>\n      <th>3</th>\n      <td>HVC0003</td>\n      <td>1,2-dichloroethane</td>\n      <td>C(CCl)Cl</td>\n      <td>NaN</td>\n      <td>NaN</td>\n      <td>NaN</td>\n      <td>CIDm00000011</td>\n      <td>HBIN000277</td>\n    </tr>\n    <tr>\n      <th>4</th>\n      <td>HVC0003</td>\n      <td>1,2-dichloroethane</td>\n      <td>C(CCl)Cl</td>\n      <td>NaN</td>\n      <td>NaN</td>\n      <td>NaN</td>\n      <td>CIDm00000011</td>\n      <td>HBIN000287</td>\n    </tr>\n    <tr>\n      <th>...</th>\n      <td>...</td>\n      <td>...</td>\n      <td>...</td>\n      <td>...</td>\n      <td>...</td>\n      <td>...</td>\n      <td>...</td>\n      <td>...</td>\n    </tr>\n    <tr>\n      <th>13093</th>\n      <td>HVC6842</td>\n      <td>nomilinic acid</td>\n      <td>CC(=O)OC(CC(=O)O)C1(C2CCC3(C(OC(=O)C4C3(C2(C(=...</td>\n      <td>NaN</td>\n      <td>131751863.0</td>\n      <td>NaN</td>\n      <td>CIDm76315917</td>\n      <td>HBIN037209</td>\n    </tr>\n    <tr>\n      <th>13094</th>\n      <td>HVC6843</td>\n      <td>3'-methoxy-4',5'-methylenedioxyflavone</td>\n      <td>COC1=CC(=CC2=C1OCO2)C3=CC(=O)C4=CC=CC=C4O3</td>\n      <td>NaN</td>\n      <td>86059964.0</td>\n      <td>NaN</td>\n      <td>CIDm86059964</td>\n      <td>HBIN008794</td>\n    </tr>\n    <tr>\n      <th>13095</th>\n      <td>HVC6844</td>\n      <td>glucosylceramides</td>\n      <td>C(C1C(C(C(C(O1)OCC(CO)NC=O)O)O)O)O</td>\n      <td>NaN</td>\n      <td>NaN</td>\n      <td>NaN</td>\n      <td>CIDm91666322</td>\n      <td>HBIN018132</td>\n    </tr>\n    <tr>\n      <th>13096</th>\n      <td>HVC6845</td>\n      <td>nezukol</td>\n      <td>CC1(CCCC2(C1CCC3(C2CCC(C3)(C)C=C)O)C)C</td>\n      <td>NaN</td>\n      <td>13969544.0</td>\n      <td>NaN</td>\n      <td>CIDm91746481</td>\n      <td>HBIN036849</td>\n    </tr>\n    <tr>\n      <th>13097</th>\n      <td>HVC6846</td>\n      <td>merresectine C</td>\n      <td>CC(=CCC1=CC(=CC(=C1O)CC=C(C)C)C(=O)OC2CC3CCC(C...</td>\n      <td>NaN</td>\n      <td>91751184.0</td>\n      <td>NaN</td>\n      <td>CIDm91751184</td>\n      <td>HBIN034765</td>\n    </tr>\n  </tbody>\n</table>\n<p>13098 rows × 8 columns</p>\n</div>"
     },
     "execution_count": 47,
     "metadata": {},
     "output_type": "execute_result"
    }
   ],
   "source": [
    "chem_all = pd.read_csv(r'src/herbiv/data/HerbiV_chemicals.csv')\n",
    "chem_all"
   ],
   "metadata": {
    "collapsed": false,
    "ExecuteTime": {
     "start_time": "2023-04-08T10:47:55.859863Z",
     "end_time": "2023-04-08T10:47:55.934411Z"
    }
   }
  },
  {
   "cell_type": "code",
   "execution_count": 48,
   "outputs": [
    {
     "data": {
      "text/plain": "       HVCID                 Name  \\\n0    HVC0004  dihydrotestosterone   \n1    HVC0011                 DHEA   \n2    HVC0024  polyethylene glycol   \n3    HVC0025              acetate   \n4    HVC0026         acetaldehyde   \n..       ...                  ...   \n219  HVC5582         flavopiridol   \n220  HVC6021              arsenic   \n221  HVC6041              silicon   \n222  HVC6130             selenium   \n223  HVC6728               starch   \n\n                                                SMILES      CAS_id  \\\n0                   CC12CCC(=O)CC1CCC3C2CCC4(C3CCC4O)C         NaN   \n1                CC12CCC3C(C1CCC2=O)CC=C4C3(CCC(C4)O)C         NaN   \n2                                               C(CO)O  37221-95-7   \n3                                           CC(=O)[O-]         NaN   \n4                                                 CC=O     75-07-0   \n..                                                 ...         ...   \n219  CN1CCC(C(C1)O)C2=C(C=C(C3=C2OC(=CC3=O)C4=CC=CC...         NaN   \n220                                               [As]         NaN   \n221                                               [Si]         NaN   \n222                                               [Se]         NaN   \n223  CC1C(C(C(C(O1)CO)OC2C(C(C(C(O2)COC3C(C(C(C(O3)...         NaN   \n\n     PubChem_id DrugBank_id     STITCH_id     HERB_id  \n0       10635.0         NaN  CIDm00000015  HBIN023995  \n1        5881.0         NaN  CIDm00000076  HBIN008237  \n2         174.0         NaN  CIDm00000174  HBIN024901  \n3         175.0         NaN  CIDm00000175  HBIN014391  \n4         177.0         NaN  CIDm00000177  HBIN014388  \n..          ...         ...           ...         ...  \n219  44297210.0         NaN  CIDm05287969  HBIN026567  \n220   5359596.0         NaN  CIDm05359596  HBIN016905  \n221   5461123.0         NaN  CIDm05461123  HBIN044029  \n222   6326970.0         NaN  CIDm06326970  HBIN043546  \n223  24836924.0     DB10913  CIDm24836924  HBIN015954  \n\n[224 rows x 8 columns]",
      "text/html": "<div>\n<style scoped>\n    .dataframe tbody tr th:only-of-type {\n        vertical-align: middle;\n    }\n\n    .dataframe tbody tr th {\n        vertical-align: top;\n    }\n\n    .dataframe thead th {\n        text-align: right;\n    }\n</style>\n<table border=\"1\" class=\"dataframe\">\n  <thead>\n    <tr style=\"text-align: right;\">\n      <th></th>\n      <th>HVCID</th>\n      <th>Name</th>\n      <th>SMILES</th>\n      <th>CAS_id</th>\n      <th>PubChem_id</th>\n      <th>DrugBank_id</th>\n      <th>STITCH_id</th>\n      <th>HERB_id</th>\n    </tr>\n  </thead>\n  <tbody>\n    <tr>\n      <th>0</th>\n      <td>HVC0004</td>\n      <td>dihydrotestosterone</td>\n      <td>CC12CCC(=O)CC1CCC3C2CCC4(C3CCC4O)C</td>\n      <td>NaN</td>\n      <td>10635.0</td>\n      <td>NaN</td>\n      <td>CIDm00000015</td>\n      <td>HBIN023995</td>\n    </tr>\n    <tr>\n      <th>1</th>\n      <td>HVC0011</td>\n      <td>DHEA</td>\n      <td>CC12CCC3C(C1CCC2=O)CC=C4C3(CCC(C4)O)C</td>\n      <td>NaN</td>\n      <td>5881.0</td>\n      <td>NaN</td>\n      <td>CIDm00000076</td>\n      <td>HBIN008237</td>\n    </tr>\n    <tr>\n      <th>2</th>\n      <td>HVC0024</td>\n      <td>polyethylene glycol</td>\n      <td>C(CO)O</td>\n      <td>37221-95-7</td>\n      <td>174.0</td>\n      <td>NaN</td>\n      <td>CIDm00000174</td>\n      <td>HBIN024901</td>\n    </tr>\n    <tr>\n      <th>3</th>\n      <td>HVC0025</td>\n      <td>acetate</td>\n      <td>CC(=O)[O-]</td>\n      <td>NaN</td>\n      <td>175.0</td>\n      <td>NaN</td>\n      <td>CIDm00000175</td>\n      <td>HBIN014391</td>\n    </tr>\n    <tr>\n      <th>4</th>\n      <td>HVC0026</td>\n      <td>acetaldehyde</td>\n      <td>CC=O</td>\n      <td>75-07-0</td>\n      <td>177.0</td>\n      <td>NaN</td>\n      <td>CIDm00000177</td>\n      <td>HBIN014388</td>\n    </tr>\n    <tr>\n      <th>...</th>\n      <td>...</td>\n      <td>...</td>\n      <td>...</td>\n      <td>...</td>\n      <td>...</td>\n      <td>...</td>\n      <td>...</td>\n      <td>...</td>\n    </tr>\n    <tr>\n      <th>219</th>\n      <td>HVC5582</td>\n      <td>flavopiridol</td>\n      <td>CN1CCC(C(C1)O)C2=C(C=C(C3=C2OC(=CC3=O)C4=CC=CC...</td>\n      <td>NaN</td>\n      <td>44297210.0</td>\n      <td>NaN</td>\n      <td>CIDm05287969</td>\n      <td>HBIN026567</td>\n    </tr>\n    <tr>\n      <th>220</th>\n      <td>HVC6021</td>\n      <td>arsenic</td>\n      <td>[As]</td>\n      <td>NaN</td>\n      <td>5359596.0</td>\n      <td>NaN</td>\n      <td>CIDm05359596</td>\n      <td>HBIN016905</td>\n    </tr>\n    <tr>\n      <th>221</th>\n      <td>HVC6041</td>\n      <td>silicon</td>\n      <td>[Si]</td>\n      <td>NaN</td>\n      <td>5461123.0</td>\n      <td>NaN</td>\n      <td>CIDm05461123</td>\n      <td>HBIN044029</td>\n    </tr>\n    <tr>\n      <th>222</th>\n      <td>HVC6130</td>\n      <td>selenium</td>\n      <td>[Se]</td>\n      <td>NaN</td>\n      <td>6326970.0</td>\n      <td>NaN</td>\n      <td>CIDm06326970</td>\n      <td>HBIN043546</td>\n    </tr>\n    <tr>\n      <th>223</th>\n      <td>HVC6728</td>\n      <td>starch</td>\n      <td>CC1C(C(C(C(O1)CO)OC2C(C(C(C(O2)COC3C(C(C(C(O3)...</td>\n      <td>NaN</td>\n      <td>24836924.0</td>\n      <td>DB10913</td>\n      <td>CIDm24836924</td>\n      <td>HBIN015954</td>\n    </tr>\n  </tbody>\n</table>\n<p>224 rows × 8 columns</p>\n</div>"
     },
     "execution_count": 48,
     "metadata": {},
     "output_type": "execute_result"
    }
   ],
   "source": [
    "chem = chem_all.loc[chem_all[by].isin(items)].drop_duplicates(subset=['HVCID'])\n",
    "chem.index = range(chem.shape[0])\n",
    "chem"
   ],
   "metadata": {
    "collapsed": false,
    "ExecuteTime": {
     "start_time": "2023-04-08T10:48:05.697501Z",
     "end_time": "2023-04-08T10:48:05.759755Z"
    }
   }
  },
  {
   "cell_type": "markdown",
   "source": [
    "## get_chem_protein_links"
   ],
   "metadata": {
    "collapsed": false
   }
  },
  {
   "cell_type": "code",
   "execution_count": 43,
   "outputs": [],
   "source": [
    "# by = 'HVCID'\n",
    "by = 'Ensembl_ID'\n",
    "# items = chem['HVCID']\n",
    "items = {'ENSP0000026332': 'ACACA', 'ENSP00000398698': 'TNF'}\n",
    "score = 0"
   ],
   "metadata": {
    "collapsed": false,
    "ExecuteTime": {
     "start_time": "2023-04-08T10:46:59.771408Z",
     "end_time": "2023-04-08T10:46:59.790926Z"
    }
   }
  },
  {
   "cell_type": "code",
   "execution_count": 44,
   "outputs": [
    {
     "data": {
      "text/plain": "          HVCID       Ensembl_ID  Combined_score\n0       HVC6846  ENSP00000263321             233\n1       HVC6845  ENSP00000263321             230\n2       HVC6844  ENSP00000001146             230\n3       HVC6844  ENSP00000206765             156\n4       HVC6844  ENSP00000211287             187\n...         ...              ...             ...\n450805  HVC0000  ENSP00000261643             152\n450806  HVC0000  ENSP00000263182             261\n450807  HVC0000  ENSP00000314173             428\n450808  HVC0000  ENSP00000352835             162\n450809  HVC0000  ENSP00000448165             192\n\n[450810 rows x 3 columns]",
      "text/html": "<div>\n<style scoped>\n    .dataframe tbody tr th:only-of-type {\n        vertical-align: middle;\n    }\n\n    .dataframe tbody tr th {\n        vertical-align: top;\n    }\n\n    .dataframe thead th {\n        text-align: right;\n    }\n</style>\n<table border=\"1\" class=\"dataframe\">\n  <thead>\n    <tr style=\"text-align: right;\">\n      <th></th>\n      <th>HVCID</th>\n      <th>Ensembl_ID</th>\n      <th>Combined_score</th>\n    </tr>\n  </thead>\n  <tbody>\n    <tr>\n      <th>0</th>\n      <td>HVC6846</td>\n      <td>ENSP00000263321</td>\n      <td>233</td>\n    </tr>\n    <tr>\n      <th>1</th>\n      <td>HVC6845</td>\n      <td>ENSP00000263321</td>\n      <td>230</td>\n    </tr>\n    <tr>\n      <th>2</th>\n      <td>HVC6844</td>\n      <td>ENSP00000001146</td>\n      <td>230</td>\n    </tr>\n    <tr>\n      <th>3</th>\n      <td>HVC6844</td>\n      <td>ENSP00000206765</td>\n      <td>156</td>\n    </tr>\n    <tr>\n      <th>4</th>\n      <td>HVC6844</td>\n      <td>ENSP00000211287</td>\n      <td>187</td>\n    </tr>\n    <tr>\n      <th>...</th>\n      <td>...</td>\n      <td>...</td>\n      <td>...</td>\n    </tr>\n    <tr>\n      <th>450805</th>\n      <td>HVC0000</td>\n      <td>ENSP00000261643</td>\n      <td>152</td>\n    </tr>\n    <tr>\n      <th>450806</th>\n      <td>HVC0000</td>\n      <td>ENSP00000263182</td>\n      <td>261</td>\n    </tr>\n    <tr>\n      <th>450807</th>\n      <td>HVC0000</td>\n      <td>ENSP00000314173</td>\n      <td>428</td>\n    </tr>\n    <tr>\n      <th>450808</th>\n      <td>HVC0000</td>\n      <td>ENSP00000352835</td>\n      <td>162</td>\n    </tr>\n    <tr>\n      <th>450809</th>\n      <td>HVC0000</td>\n      <td>ENSP00000448165</td>\n      <td>192</td>\n    </tr>\n  </tbody>\n</table>\n<p>450810 rows × 3 columns</p>\n</div>"
     },
     "execution_count": 44,
     "metadata": {},
     "output_type": "execute_result"
    }
   ],
   "source": [
    "chem_protein_links_all = pd.read_csv(r'src/herbiv/data/HerbiV_chemical_protein_links.csv')\n",
    "chem_protein_links_all"
   ],
   "metadata": {
    "collapsed": false,
    "ExecuteTime": {
     "start_time": "2023-04-08T10:47:00.394432Z",
     "end_time": "2023-04-08T10:47:00.670435Z"
    }
   }
  },
  {
   "cell_type": "code",
   "execution_count": 45,
   "outputs": [
    {
     "data": {
      "text/plain": "       HVCID       Ensembl_ID  Combined_score\n0    HVC6728  ENSP00000398698             152\n1    HVC6130  ENSP00000398698             274\n2    HVC6041  ENSP00000398698             156\n3    HVC6021  ENSP00000398698             840\n4    HVC5582  ENSP00000398698             800\n..       ...              ...             ...\n219  HVC0026  ENSP00000398698             250\n220  HVC0025  ENSP00000398698             319\n221  HVC0024  ENSP00000398698             188\n222  HVC0011  ENSP00000398698             247\n223  HVC0004  ENSP00000398698             725\n\n[224 rows x 3 columns]",
      "text/html": "<div>\n<style scoped>\n    .dataframe tbody tr th:only-of-type {\n        vertical-align: middle;\n    }\n\n    .dataframe tbody tr th {\n        vertical-align: top;\n    }\n\n    .dataframe thead th {\n        text-align: right;\n    }\n</style>\n<table border=\"1\" class=\"dataframe\">\n  <thead>\n    <tr style=\"text-align: right;\">\n      <th></th>\n      <th>HVCID</th>\n      <th>Ensembl_ID</th>\n      <th>Combined_score</th>\n    </tr>\n  </thead>\n  <tbody>\n    <tr>\n      <th>0</th>\n      <td>HVC6728</td>\n      <td>ENSP00000398698</td>\n      <td>152</td>\n    </tr>\n    <tr>\n      <th>1</th>\n      <td>HVC6130</td>\n      <td>ENSP00000398698</td>\n      <td>274</td>\n    </tr>\n    <tr>\n      <th>2</th>\n      <td>HVC6041</td>\n      <td>ENSP00000398698</td>\n      <td>156</td>\n    </tr>\n    <tr>\n      <th>3</th>\n      <td>HVC6021</td>\n      <td>ENSP00000398698</td>\n      <td>840</td>\n    </tr>\n    <tr>\n      <th>4</th>\n      <td>HVC5582</td>\n      <td>ENSP00000398698</td>\n      <td>800</td>\n    </tr>\n    <tr>\n      <th>...</th>\n      <td>...</td>\n      <td>...</td>\n      <td>...</td>\n    </tr>\n    <tr>\n      <th>219</th>\n      <td>HVC0026</td>\n      <td>ENSP00000398698</td>\n      <td>250</td>\n    </tr>\n    <tr>\n      <th>220</th>\n      <td>HVC0025</td>\n      <td>ENSP00000398698</td>\n      <td>319</td>\n    </tr>\n    <tr>\n      <th>221</th>\n      <td>HVC0024</td>\n      <td>ENSP00000398698</td>\n      <td>188</td>\n    </tr>\n    <tr>\n      <th>222</th>\n      <td>HVC0011</td>\n      <td>ENSP00000398698</td>\n      <td>247</td>\n    </tr>\n    <tr>\n      <th>223</th>\n      <td>HVC0004</td>\n      <td>ENSP00000398698</td>\n      <td>725</td>\n    </tr>\n  </tbody>\n</table>\n<p>224 rows × 3 columns</p>\n</div>"
     },
     "execution_count": 45,
     "metadata": {},
     "output_type": "execute_result"
    }
   ],
   "source": [
    "chem_protein_links = chem_protein_links_all.loc[\n",
    "        (chem_protein_links_all[by].isin(items)) &\n",
    "        (chem_protein_links_all['Combined_score'] >= score)].copy()\n",
    "\n",
    "chem_protein_links.index = range(chem_protein_links.shape[0])\n",
    "\n",
    "chem_protein_links"
   ],
   "metadata": {
    "collapsed": false,
    "ExecuteTime": {
     "start_time": "2023-04-08T10:47:01.469927Z",
     "end_time": "2023-04-08T10:47:01.515315Z"
    }
   }
  },
  {
   "cell_type": "markdown",
   "source": [
    "# compute"
   ],
   "metadata": {
    "collapsed": false
   }
  },
  {
   "cell_type": "markdown",
   "source": [
    "## score"
   ],
   "metadata": {
    "collapsed": false
   }
  },
  {
   "cell_type": "code",
   "execution_count": 55,
   "outputs": [
    {
     "data": {
      "text/plain": "       HVCID       Ensembl_ID  Combined_score\n0    HVC6728  ENSP00000398698           0.152\n1    HVC6130  ENSP00000398698           0.274\n2    HVC6041  ENSP00000398698           0.156\n3    HVC6021  ENSP00000398698           0.840\n4    HVC5582  ENSP00000398698           0.800\n..       ...              ...             ...\n219  HVC0026  ENSP00000398698           0.250\n220  HVC0025  ENSP00000398698           0.319\n221  HVC0024  ENSP00000398698           0.188\n222  HVC0011  ENSP00000398698           0.247\n223  HVC0004  ENSP00000398698           0.725\n\n[224 rows x 3 columns]",
      "text/html": "<div>\n<style scoped>\n    .dataframe tbody tr th:only-of-type {\n        vertical-align: middle;\n    }\n\n    .dataframe tbody tr th {\n        vertical-align: top;\n    }\n\n    .dataframe thead th {\n        text-align: right;\n    }\n</style>\n<table border=\"1\" class=\"dataframe\">\n  <thead>\n    <tr style=\"text-align: right;\">\n      <th></th>\n      <th>HVCID</th>\n      <th>Ensembl_ID</th>\n      <th>Combined_score</th>\n    </tr>\n  </thead>\n  <tbody>\n    <tr>\n      <th>0</th>\n      <td>HVC6728</td>\n      <td>ENSP00000398698</td>\n      <td>0.152</td>\n    </tr>\n    <tr>\n      <th>1</th>\n      <td>HVC6130</td>\n      <td>ENSP00000398698</td>\n      <td>0.274</td>\n    </tr>\n    <tr>\n      <th>2</th>\n      <td>HVC6041</td>\n      <td>ENSP00000398698</td>\n      <td>0.156</td>\n    </tr>\n    <tr>\n      <th>3</th>\n      <td>HVC6021</td>\n      <td>ENSP00000398698</td>\n      <td>0.840</td>\n    </tr>\n    <tr>\n      <th>4</th>\n      <td>HVC5582</td>\n      <td>ENSP00000398698</td>\n      <td>0.800</td>\n    </tr>\n    <tr>\n      <th>...</th>\n      <td>...</td>\n      <td>...</td>\n      <td>...</td>\n    </tr>\n    <tr>\n      <th>219</th>\n      <td>HVC0026</td>\n      <td>ENSP00000398698</td>\n      <td>0.250</td>\n    </tr>\n    <tr>\n      <th>220</th>\n      <td>HVC0025</td>\n      <td>ENSP00000398698</td>\n      <td>0.319</td>\n    </tr>\n    <tr>\n      <th>221</th>\n      <td>HVC0024</td>\n      <td>ENSP00000398698</td>\n      <td>0.188</td>\n    </tr>\n    <tr>\n      <th>222</th>\n      <td>HVC0011</td>\n      <td>ENSP00000398698</td>\n      <td>0.247</td>\n    </tr>\n    <tr>\n      <th>223</th>\n      <td>HVC0004</td>\n      <td>ENSP00000398698</td>\n      <td>0.725</td>\n    </tr>\n  </tbody>\n</table>\n<p>224 rows × 3 columns</p>\n</div>"
     },
     "execution_count": 55,
     "metadata": {},
     "output_type": "execute_result"
    }
   ],
   "source": [
    "chem_protein_links.loc[:, 'Combined_score'] = chem_protein_links.loc[:, 'Combined_score'].apply(\n",
    "    lambda x: x / 1000)\n",
    "chem_protein_links"
   ],
   "metadata": {
    "collapsed": false,
    "ExecuteTime": {
     "start_time": "2023-04-08T10:51:25.314879Z",
     "end_time": "2023-04-08T10:51:25.376232Z"
    }
   }
  },
  {
   "cell_type": "code",
   "execution_count": 56,
   "outputs": [
    {
     "data": {
      "text/plain": "       HVCID                 Name  \\\n0    HVC0004  dihydrotestosterone   \n1    HVC0011                 DHEA   \n2    HVC0024  polyethylene glycol   \n3    HVC0025              acetate   \n4    HVC0026         acetaldehyde   \n..       ...                  ...   \n219  HVC5582         flavopiridol   \n220  HVC6021              arsenic   \n221  HVC6041              silicon   \n222  HVC6130             selenium   \n223  HVC6728               starch   \n\n                                                SMILES      CAS_id  \\\n0                   CC12CCC(=O)CC1CCC3C2CCC4(C3CCC4O)C         NaN   \n1                CC12CCC3C(C1CCC2=O)CC=C4C3(CCC(C4)O)C         NaN   \n2                                               C(CO)O  37221-95-7   \n3                                           CC(=O)[O-]         NaN   \n4                                                 CC=O     75-07-0   \n..                                                 ...         ...   \n219  CN1CCC(C(C1)O)C2=C(C=C(C3=C2OC(=CC3=O)C4=CC=CC...         NaN   \n220                                               [As]         NaN   \n221                                               [Si]         NaN   \n222                                               [Se]         NaN   \n223  CC1C(C(C(C(O1)CO)OC2C(C(C(C(O2)COC3C(C(C(C(O3)...         NaN   \n\n     PubChem_id DrugBank_id     STITCH_id     HERB_id  Importance Score  \n0       10635.0         NaN  CIDm00000015  HBIN023995             0.725  \n1        5881.0         NaN  CIDm00000076  HBIN008237             0.247  \n2         174.0         NaN  CIDm00000174  HBIN024901             0.188  \n3         175.0         NaN  CIDm00000175  HBIN014391             0.319  \n4         177.0         NaN  CIDm00000177  HBIN014388             0.250  \n..          ...         ...           ...         ...               ...  \n219  44297210.0         NaN  CIDm05287969  HBIN026567             0.800  \n220   5359596.0         NaN  CIDm05359596  HBIN016905             0.840  \n221   5461123.0         NaN  CIDm05461123  HBIN044029             0.156  \n222   6326970.0         NaN  CIDm06326970  HBIN043546             0.274  \n223  24836924.0     DB10913  CIDm24836924  HBIN015954             0.152  \n\n[224 rows x 9 columns]",
      "text/html": "<div>\n<style scoped>\n    .dataframe tbody tr th:only-of-type {\n        vertical-align: middle;\n    }\n\n    .dataframe tbody tr th {\n        vertical-align: top;\n    }\n\n    .dataframe thead th {\n        text-align: right;\n    }\n</style>\n<table border=\"1\" class=\"dataframe\">\n  <thead>\n    <tr style=\"text-align: right;\">\n      <th></th>\n      <th>HVCID</th>\n      <th>Name</th>\n      <th>SMILES</th>\n      <th>CAS_id</th>\n      <th>PubChem_id</th>\n      <th>DrugBank_id</th>\n      <th>STITCH_id</th>\n      <th>HERB_id</th>\n      <th>Importance Score</th>\n    </tr>\n  </thead>\n  <tbody>\n    <tr>\n      <th>0</th>\n      <td>HVC0004</td>\n      <td>dihydrotestosterone</td>\n      <td>CC12CCC(=O)CC1CCC3C2CCC4(C3CCC4O)C</td>\n      <td>NaN</td>\n      <td>10635.0</td>\n      <td>NaN</td>\n      <td>CIDm00000015</td>\n      <td>HBIN023995</td>\n      <td>0.725</td>\n    </tr>\n    <tr>\n      <th>1</th>\n      <td>HVC0011</td>\n      <td>DHEA</td>\n      <td>CC12CCC3C(C1CCC2=O)CC=C4C3(CCC(C4)O)C</td>\n      <td>NaN</td>\n      <td>5881.0</td>\n      <td>NaN</td>\n      <td>CIDm00000076</td>\n      <td>HBIN008237</td>\n      <td>0.247</td>\n    </tr>\n    <tr>\n      <th>2</th>\n      <td>HVC0024</td>\n      <td>polyethylene glycol</td>\n      <td>C(CO)O</td>\n      <td>37221-95-7</td>\n      <td>174.0</td>\n      <td>NaN</td>\n      <td>CIDm00000174</td>\n      <td>HBIN024901</td>\n      <td>0.188</td>\n    </tr>\n    <tr>\n      <th>3</th>\n      <td>HVC0025</td>\n      <td>acetate</td>\n      <td>CC(=O)[O-]</td>\n      <td>NaN</td>\n      <td>175.0</td>\n      <td>NaN</td>\n      <td>CIDm00000175</td>\n      <td>HBIN014391</td>\n      <td>0.319</td>\n    </tr>\n    <tr>\n      <th>4</th>\n      <td>HVC0026</td>\n      <td>acetaldehyde</td>\n      <td>CC=O</td>\n      <td>75-07-0</td>\n      <td>177.0</td>\n      <td>NaN</td>\n      <td>CIDm00000177</td>\n      <td>HBIN014388</td>\n      <td>0.250</td>\n    </tr>\n    <tr>\n      <th>...</th>\n      <td>...</td>\n      <td>...</td>\n      <td>...</td>\n      <td>...</td>\n      <td>...</td>\n      <td>...</td>\n      <td>...</td>\n      <td>...</td>\n      <td>...</td>\n    </tr>\n    <tr>\n      <th>219</th>\n      <td>HVC5582</td>\n      <td>flavopiridol</td>\n      <td>CN1CCC(C(C1)O)C2=C(C=C(C3=C2OC(=CC3=O)C4=CC=CC...</td>\n      <td>NaN</td>\n      <td>44297210.0</td>\n      <td>NaN</td>\n      <td>CIDm05287969</td>\n      <td>HBIN026567</td>\n      <td>0.800</td>\n    </tr>\n    <tr>\n      <th>220</th>\n      <td>HVC6021</td>\n      <td>arsenic</td>\n      <td>[As]</td>\n      <td>NaN</td>\n      <td>5359596.0</td>\n      <td>NaN</td>\n      <td>CIDm05359596</td>\n      <td>HBIN016905</td>\n      <td>0.840</td>\n    </tr>\n    <tr>\n      <th>221</th>\n      <td>HVC6041</td>\n      <td>silicon</td>\n      <td>[Si]</td>\n      <td>NaN</td>\n      <td>5461123.0</td>\n      <td>NaN</td>\n      <td>CIDm05461123</td>\n      <td>HBIN044029</td>\n      <td>0.156</td>\n    </tr>\n    <tr>\n      <th>222</th>\n      <td>HVC6130</td>\n      <td>selenium</td>\n      <td>[Se]</td>\n      <td>NaN</td>\n      <td>6326970.0</td>\n      <td>NaN</td>\n      <td>CIDm06326970</td>\n      <td>HBIN043546</td>\n      <td>0.274</td>\n    </tr>\n    <tr>\n      <th>223</th>\n      <td>HVC6728</td>\n      <td>starch</td>\n      <td>CC1C(C(C(C(O1)CO)OC2C(C(C(C(O2)COC3C(C(C(C(O3)...</td>\n      <td>NaN</td>\n      <td>24836924.0</td>\n      <td>DB10913</td>\n      <td>CIDm24836924</td>\n      <td>HBIN015954</td>\n      <td>0.152</td>\n    </tr>\n  </tbody>\n</table>\n<p>224 rows × 9 columns</p>\n</div>"
     },
     "execution_count": 56,
     "metadata": {},
     "output_type": "execute_result"
    }
   ],
   "source": [
    "chem['Importance Score'] = chem.loc[:, 'HVCID'].apply(\n",
    "        lambda x: 1 - (1 - np.array([*chem_protein_links.loc[chem_protein_links['HVCID'] == x]['Combined_score']])).prod())\n",
    "chem"
   ],
   "metadata": {
    "collapsed": false,
    "ExecuteTime": {
     "start_time": "2023-04-08T10:51:26.172219Z",
     "end_time": "2023-04-08T10:51:26.312259Z"
    }
   }
  },
  {
   "cell_type": "code",
   "execution_count": 57,
   "outputs": [
    {
     "data": {
      "text/plain": "        HVMID  cn_name               pinyin_name  \\\n0     HVM0008  阿拉伯胶金合欢  A LA BO JIAO JIN HE HUAN   \n1     HVM0009   阿拉伯金合欢       A LA BO JIN HE HUAN   \n2     HVM0010   阿拉伯婆婆纳          A LA BO PO PO NA   \n3     HVM0018      矮地茶                 AI DI CHA   \n4     HVM0026       艾实                    AI SHI   \n...       ...      ...                       ...   \n1669  HVM4640     紫葳茎叶            ZI WEI JING YE   \n1670  HVM4654      紫锥花               ZI ZHUI HUA   \n1671  HVM4656       棕榈                   ZONG LV   \n1672  HVM4657      棕榈皮                ZONG LV PI   \n1673  HVM4658      棕榈炭               ZONG LV TAN   \n\n                                                en_name  \\\n0                                       Gum-arabic Tree   \n1                                        Arabian Acacia   \n2                                        Iran Speedwell   \n3                                 Japanese Ardisia Herb   \n4                               Fructus Artemiiae argyi   \n...                                                 ...   \n1669                   Chinese Trumpetcreeper Stem-leaf   \n1670                                          Echinacea   \n1671                       Fortune Windmillpalm Petiole   \n1672                               Fortune Windmillpalm   \n1673  Carbonized palm fiber, Carbonized petiole of w...   \n\n                                      latin_name             Properties  \\\n0                                Acacia nilotica                    NaN   \n1                                 Acacia arabica                    NaN   \n2                               Veronica persica                    NaN   \n3                             Ardisiae japonicae  Mild; Pungent; Bitter   \n4                                            NaN                    NaN   \n...                                          ...                    ...   \n1669                         Campsis grandiflora                    NaN   \n1670                          Echinacea purpurea                    NaN   \n1671                        Petiolus Trachycarpi                    NaN   \n1672                       Trachycarpus fortunei  Mild; Bitter; Punkery   \n1673  Carbonized Vagina Trachycarpus Wagnerianus  Mild; Bitter; Punkery   \n\n                         Meridians                          UsePart  \\\n0                              NaN                              NaN   \n1                              NaN                              NaN   \n2                              NaN                       whole herb   \n3                      Lung; Liver                              NaN   \n4                              NaN                              NaN   \n...                            ...                              ...   \n1669                           NaN                        stem-leaf   \n1670                           NaN       root of Echinacea purpurea   \n1671                           NaN  Trachycarpus fortunei H. Wendl.   \n1672  Lung; Large Intestine; Liver      petiole and fibre of sheath   \n1673  Lung; Large Intestine; Liver  Trachycarpus fortunei H. wendl.   \n\n                                               Function  \\\n0                                                   NaN   \n1                                                   NaN   \n2     To dispel wind and eliminate damp, strengthen ...   \n3     1. To eliminate phlegm and relieving cough.2. ...   \n4                                                   NaN   \n...                                                 ...   \n1669       To clear heat, cool blood, dissipate stasis.   \n1670  Used as a general nonspecific stimulant to the...   \n1671  Treatment of spitting of blood, epistaxis, hem...   \n1672        To promote contraction and stanch bleeding.   \n1673  Treatment of: 1. Hemorrhages due to extravasat...   \n\n                                             Indication Toxicity  \\\n0                                                   NaN      NaN   \n1                                                   NaN      NaN   \n2     Wind-damp impediment pain, kidney vacuity lumb...      NaN   \n3     1. Bergenin, an active comonent, is an expecto...      NaN   \n4                                                   NaN      NaN   \n...                                                 ...      ...   \n1669  Wind due to blood heat, itchy body, wind papul...      NaN   \n1670  Used as a general nonspecific stimulant to the...      NaN   \n1671  Treatment of spitting of blood, epistaxis, hem...      NaN   \n1672  Blood ejection, spontaneous external bleeding,...      NaN   \n1673  Treatment of: 1. Hemorrhages due to extravasat...      NaN   \n\n                                Clinical_manifestations  \\\n0                                                   NaN   \n1                                                   NaN   \n2                                                   NaN   \n3     1. Bergenin, an active comonent, is an expecto...   \n4                                                   NaN   \n...                                                 ...   \n1669                                                NaN   \n1670                                                NaN   \n1671                                                NaN   \n1672                                                NaN   \n1673                                                NaN   \n\n            Therapeutic_en_class Therapeutic_cn_class     HERB_id   TCMID_id  \\\n0                            NaN                  NaN  HERB000018        NaN   \n1                            NaN                  NaN  HERB000019        NaN   \n2                            NaN                  NaN  HERB000020        NaN   \n3     Antitussive Antiasthmetics                止咳平喘药  HERB000036  SMHB00001   \n4                            NaN                  NaN  HERB000057        NaN   \n...                          ...                  ...         ...        ...   \n1669                         NaN                  NaN  HERB007225        NaN   \n1670                         NaN                  NaN  HERB007240        NaN   \n1671            Bleeding control                   止血  HERB007244        NaN   \n1672            Bleeding control                   止血  HERB007245        NaN   \n1673            Bleeding control                   止血  HERB007246        NaN   \n\n      TCM_ID_id  SymMap_id  TCMSP_id  Importance Score  \n0        1316.0        NaN       NaN          0.864322  \n1        5352.0        NaN       NaN          0.158000  \n2        7039.0        NaN       NaN          0.174000  \n3        7629.0        1.0       2.0          0.996465  \n4        6848.0        NaN       NaN          0.949000  \n...         ...        ...       ...               ...  \n1669     7994.0        NaN       NaN          0.692000  \n1670     5430.0        NaN    1100.0          0.979485  \n1671     6499.0        NaN    1098.0          0.960781  \n1672     2369.0        NaN     189.0          0.515617  \n1673     2208.0        NaN     190.0          0.177000  \n\n[1674 rows x 20 columns]",
      "text/html": "<div>\n<style scoped>\n    .dataframe tbody tr th:only-of-type {\n        vertical-align: middle;\n    }\n\n    .dataframe tbody tr th {\n        vertical-align: top;\n    }\n\n    .dataframe thead th {\n        text-align: right;\n    }\n</style>\n<table border=\"1\" class=\"dataframe\">\n  <thead>\n    <tr style=\"text-align: right;\">\n      <th></th>\n      <th>HVMID</th>\n      <th>cn_name</th>\n      <th>pinyin_name</th>\n      <th>en_name</th>\n      <th>latin_name</th>\n      <th>Properties</th>\n      <th>Meridians</th>\n      <th>UsePart</th>\n      <th>Function</th>\n      <th>Indication</th>\n      <th>Toxicity</th>\n      <th>Clinical_manifestations</th>\n      <th>Therapeutic_en_class</th>\n      <th>Therapeutic_cn_class</th>\n      <th>HERB_id</th>\n      <th>TCMID_id</th>\n      <th>TCM_ID_id</th>\n      <th>SymMap_id</th>\n      <th>TCMSP_id</th>\n      <th>Importance Score</th>\n    </tr>\n  </thead>\n  <tbody>\n    <tr>\n      <th>0</th>\n      <td>HVM0008</td>\n      <td>阿拉伯胶金合欢</td>\n      <td>A LA BO JIAO JIN HE HUAN</td>\n      <td>Gum-arabic Tree</td>\n      <td>Acacia nilotica</td>\n      <td>NaN</td>\n      <td>NaN</td>\n      <td>NaN</td>\n      <td>NaN</td>\n      <td>NaN</td>\n      <td>NaN</td>\n      <td>NaN</td>\n      <td>NaN</td>\n      <td>NaN</td>\n      <td>HERB000018</td>\n      <td>NaN</td>\n      <td>1316.0</td>\n      <td>NaN</td>\n      <td>NaN</td>\n      <td>0.864322</td>\n    </tr>\n    <tr>\n      <th>1</th>\n      <td>HVM0009</td>\n      <td>阿拉伯金合欢</td>\n      <td>A LA BO JIN HE HUAN</td>\n      <td>Arabian Acacia</td>\n      <td>Acacia arabica</td>\n      <td>NaN</td>\n      <td>NaN</td>\n      <td>NaN</td>\n      <td>NaN</td>\n      <td>NaN</td>\n      <td>NaN</td>\n      <td>NaN</td>\n      <td>NaN</td>\n      <td>NaN</td>\n      <td>HERB000019</td>\n      <td>NaN</td>\n      <td>5352.0</td>\n      <td>NaN</td>\n      <td>NaN</td>\n      <td>0.158000</td>\n    </tr>\n    <tr>\n      <th>2</th>\n      <td>HVM0010</td>\n      <td>阿拉伯婆婆纳</td>\n      <td>A LA BO PO PO NA</td>\n      <td>Iran Speedwell</td>\n      <td>Veronica persica</td>\n      <td>NaN</td>\n      <td>NaN</td>\n      <td>whole herb</td>\n      <td>To dispel wind and eliminate damp, strengthen ...</td>\n      <td>Wind-damp impediment pain, kidney vacuity lumb...</td>\n      <td>NaN</td>\n      <td>NaN</td>\n      <td>NaN</td>\n      <td>NaN</td>\n      <td>HERB000020</td>\n      <td>NaN</td>\n      <td>7039.0</td>\n      <td>NaN</td>\n      <td>NaN</td>\n      <td>0.174000</td>\n    </tr>\n    <tr>\n      <th>3</th>\n      <td>HVM0018</td>\n      <td>矮地茶</td>\n      <td>AI DI CHA</td>\n      <td>Japanese Ardisia Herb</td>\n      <td>Ardisiae japonicae</td>\n      <td>Mild; Pungent; Bitter</td>\n      <td>Lung; Liver</td>\n      <td>NaN</td>\n      <td>1. To eliminate phlegm and relieving cough.2. ...</td>\n      <td>1. Bergenin, an active comonent, is an expecto...</td>\n      <td>NaN</td>\n      <td>1. Bergenin, an active comonent, is an expecto...</td>\n      <td>Antitussive Antiasthmetics</td>\n      <td>止咳平喘药</td>\n      <td>HERB000036</td>\n      <td>SMHB00001</td>\n      <td>7629.0</td>\n      <td>1.0</td>\n      <td>2.0</td>\n      <td>0.996465</td>\n    </tr>\n    <tr>\n      <th>4</th>\n      <td>HVM0026</td>\n      <td>艾实</td>\n      <td>AI SHI</td>\n      <td>Fructus Artemiiae argyi</td>\n      <td>NaN</td>\n      <td>NaN</td>\n      <td>NaN</td>\n      <td>NaN</td>\n      <td>NaN</td>\n      <td>NaN</td>\n      <td>NaN</td>\n      <td>NaN</td>\n      <td>NaN</td>\n      <td>NaN</td>\n      <td>HERB000057</td>\n      <td>NaN</td>\n      <td>6848.0</td>\n      <td>NaN</td>\n      <td>NaN</td>\n      <td>0.949000</td>\n    </tr>\n    <tr>\n      <th>...</th>\n      <td>...</td>\n      <td>...</td>\n      <td>...</td>\n      <td>...</td>\n      <td>...</td>\n      <td>...</td>\n      <td>...</td>\n      <td>...</td>\n      <td>...</td>\n      <td>...</td>\n      <td>...</td>\n      <td>...</td>\n      <td>...</td>\n      <td>...</td>\n      <td>...</td>\n      <td>...</td>\n      <td>...</td>\n      <td>...</td>\n      <td>...</td>\n      <td>...</td>\n    </tr>\n    <tr>\n      <th>1669</th>\n      <td>HVM4640</td>\n      <td>紫葳茎叶</td>\n      <td>ZI WEI JING YE</td>\n      <td>Chinese Trumpetcreeper Stem-leaf</td>\n      <td>Campsis grandiflora</td>\n      <td>NaN</td>\n      <td>NaN</td>\n      <td>stem-leaf</td>\n      <td>To clear heat, cool blood, dissipate stasis.</td>\n      <td>Wind due to blood heat, itchy body, wind papul...</td>\n      <td>NaN</td>\n      <td>NaN</td>\n      <td>NaN</td>\n      <td>NaN</td>\n      <td>HERB007225</td>\n      <td>NaN</td>\n      <td>7994.0</td>\n      <td>NaN</td>\n      <td>NaN</td>\n      <td>0.692000</td>\n    </tr>\n    <tr>\n      <th>1670</th>\n      <td>HVM4654</td>\n      <td>紫锥花</td>\n      <td>ZI ZHUI HUA</td>\n      <td>Echinacea</td>\n      <td>Echinacea purpurea</td>\n      <td>NaN</td>\n      <td>NaN</td>\n      <td>root of Echinacea purpurea</td>\n      <td>Used as a general nonspecific stimulant to the...</td>\n      <td>Used as a general nonspecific stimulant to the...</td>\n      <td>NaN</td>\n      <td>NaN</td>\n      <td>NaN</td>\n      <td>NaN</td>\n      <td>HERB007240</td>\n      <td>NaN</td>\n      <td>5430.0</td>\n      <td>NaN</td>\n      <td>1100.0</td>\n      <td>0.979485</td>\n    </tr>\n    <tr>\n      <th>1671</th>\n      <td>HVM4656</td>\n      <td>棕榈</td>\n      <td>ZONG LV</td>\n      <td>Fortune Windmillpalm Petiole</td>\n      <td>Petiolus Trachycarpi</td>\n      <td>NaN</td>\n      <td>NaN</td>\n      <td>Trachycarpus fortunei H. Wendl.</td>\n      <td>Treatment of spitting of blood, epistaxis, hem...</td>\n      <td>Treatment of spitting of blood, epistaxis, hem...</td>\n      <td>NaN</td>\n      <td>NaN</td>\n      <td>Bleeding control</td>\n      <td>止血</td>\n      <td>HERB007244</td>\n      <td>NaN</td>\n      <td>6499.0</td>\n      <td>NaN</td>\n      <td>1098.0</td>\n      <td>0.960781</td>\n    </tr>\n    <tr>\n      <th>1672</th>\n      <td>HVM4657</td>\n      <td>棕榈皮</td>\n      <td>ZONG LV PI</td>\n      <td>Fortune Windmillpalm</td>\n      <td>Trachycarpus fortunei</td>\n      <td>Mild; Bitter; Punkery</td>\n      <td>Lung; Large Intestine; Liver</td>\n      <td>petiole and fibre of sheath</td>\n      <td>To promote contraction and stanch bleeding.</td>\n      <td>Blood ejection, spontaneous external bleeding,...</td>\n      <td>NaN</td>\n      <td>NaN</td>\n      <td>Bleeding control</td>\n      <td>止血</td>\n      <td>HERB007245</td>\n      <td>NaN</td>\n      <td>2369.0</td>\n      <td>NaN</td>\n      <td>189.0</td>\n      <td>0.515617</td>\n    </tr>\n    <tr>\n      <th>1673</th>\n      <td>HVM4658</td>\n      <td>棕榈炭</td>\n      <td>ZONG LV TAN</td>\n      <td>Carbonized palm fiber, Carbonized petiole of w...</td>\n      <td>Carbonized Vagina Trachycarpus Wagnerianus</td>\n      <td>Mild; Bitter; Punkery</td>\n      <td>Lung; Large Intestine; Liver</td>\n      <td>Trachycarpus fortunei H. wendl.</td>\n      <td>Treatment of: 1. Hemorrhages due to extravasat...</td>\n      <td>Treatment of: 1. Hemorrhages due to extravasat...</td>\n      <td>NaN</td>\n      <td>NaN</td>\n      <td>Bleeding control</td>\n      <td>止血</td>\n      <td>HERB007246</td>\n      <td>NaN</td>\n      <td>2208.0</td>\n      <td>NaN</td>\n      <td>190.0</td>\n      <td>0.177000</td>\n    </tr>\n  </tbody>\n</table>\n<p>1674 rows × 20 columns</p>\n</div>"
     },
     "execution_count": 57,
     "metadata": {},
     "output_type": "execute_result"
    }
   ],
   "source": [
    "tcm['Importance Score'] = tcm.loc[:, 'HVMID'].apply(\n",
    "        lambda x: 1 - (1 - np.array([*chem.loc[chem['HVCID'].isin(tcm_chem_links.loc[tcm_chem_links['HVMID'] == x]['HVCID'])]['Importance Score']])).prod())\n",
    "tcm"
   ],
   "metadata": {
    "collapsed": false,
    "ExecuteTime": {
     "start_time": "2023-04-08T10:51:27.224429Z",
     "end_time": "2023-04-08T10:51:29.267131Z"
    }
   }
  },
  {
   "cell_type": "code",
   "execution_count": 58,
   "outputs": [
    {
     "data": {
      "text/plain": "        HVMID cn_name        pinyin_name  \\\n0     HVM3081      桑叶            SANG YE   \n1     HVM2346      麻黄           MA HUANG   \n2     HVM3090      沙棘             SHA JI   \n3     HVM2074      辣椒            LA JIAO   \n4     HVM0367      柴胡            CHAI HU   \n...       ...     ...                ...   \n1669  HVM4436     樟树叶       ZHANG SHU YE   \n1670  HVM0974   多穗石柯叶  DUO SUI SHI KE YE   \n1671  HVM3712    锡兰肉桂     XI LAN ROU GUI   \n1672  HVM2097      狼毒            LANG DU   \n1673  HVM4354     月见草       YUE JIAN CAO   \n\n                                    en_name                latin_name  \\\n0                             Mulberry Leaf               Folium Mori   \n1                                   Ephedra            Herba Ephedrae   \n2                     fruit of seabuckthorn         fructus hippophae   \n3                                Hot pepper           fructus Capsici   \n4                  root of Chinese Thorowax            Radix Bupleuri   \n...                                     ...                       ...   \n1669  Folium seu Folium Cinnamomi camphorae                       NaN   \n1670                  Manyspike Tanoak Leaf  Lithocarpus polystachyus   \n1671                        Ceylon Cinnamon     Cinnamomum zeylanicum   \n1672                       Chinese Stellera      Stellera chamaejasme   \n1673        Radix oenotherae erythrosepalae                       NaN   \n\n                          Properties  \\\n0                Cold; Sweet; Bitter   \n1     Warm; Pungent; Slightly Bitter   \n2                Warm; Sour; Punkery   \n3                       Hot; Pungent   \n4        Minor cold; Pungent; Bitter   \n...                              ...   \n1669                             NaN   \n1670                             NaN   \n1671                             NaN   \n1672                             NaN   \n1673                             NaN   \n\n                                             Meridians           UsePart  \\\n0                                          Lung; Liver              leaf   \n1                                        Lung; Bladder  herbaceous twigs   \n2     Large Intestine; Stomach; Small Intestine; Liver               NaN   \n3                               Spleen; Stomach; Heart             fruit   \n4                                   Liver; Gallbladder              root   \n...                                                ...               ...   \n1669                                               NaN               NaN   \n1670                                               NaN              leaf   \n1671                                               NaN               NaN   \n1672                                               NaN              root   \n1673                                               NaN               NaN   \n\n                                               Function  \\\n0     To dispel wind-heat and to remove heat from th...   \n1     To induce perspiration for dispelling cold, to...   \n2                                                   NaN   \n3                                                   NaN   \n4     To relieve fever, to soothe the liver, and to ...   \n...                                                 ...   \n1669                                                NaN   \n1670  To clear heat and resolve toxin, transform phl...   \n1671                                                NaN   \n1672  To expel water and dispel phlegm, break accumu...   \n1673                                                NaN   \n\n                                             Indication Toxicity  \\\n0     Wind-heat common cold, lung heat dry cough, di...      NaN   \n1     Wind-cold exterior repletion syndrome, headach...      NaN   \n2                                                   NaN      NaN   \n3                                  See Capsicum annuum.      NaN   \n4     Common cold, influenza, malaria, acute pancrea...      NaN   \n...                                                 ...      ...   \n1669                                                NaN      NaN   \n1670  Hypertension, damp-heat diarrhea dysentery, lu...      NaN   \n1671                                                NaN      NaN   \n1672  Edema distention fullness, a ccumulation from ...      NaN   \n1673                                                NaN      NaN   \n\n                                Clinical_manifestations  \\\n0     1. Lowering the level of blood sugar in rats w...   \n1     1. Its effects on cardiovascular system are si...   \n2                                                   NaN   \n3                                                   NaN   \n4     1. Increasing the hypotic effect of barbital i...   \n...                                                 ...   \n1669                                                NaN   \n1670                                                NaN   \n1671                                                NaN   \n1672                                                NaN   \n1673                                                NaN   \n\n                                   Therapeutic_en_class Therapeutic_cn_class  \\\n0                             Pungent Cool Diaphoretics                辛凉解表药   \n1             Pungent-Warm Exterior-Releasing Medicinal                辛温解表药   \n2                               Phlegresolving Medicine                  化痰药   \n3     External Medicinal (Draw Out Toxin, Resolve Pu...              拔毒化腐生肌药   \n4                             Pungent Cool Diaphoretics                辛凉解表药   \n...                                                 ...                  ...   \n1669                                                NaN                  NaN   \n1670                                                NaN                  NaN   \n1671                                                NaN                  NaN   \n1672                                                NaN                  NaN   \n1673                                                NaN                  NaN   \n\n         HERB_id   TCMID_id  TCM_ID_id  SymMap_id  TCMSP_id  Importance Score  \n0     HERB004834  SMHB00351     2356.0      351.0     608.0              1.00  \n1     HERB003658  SMHB00264     1660.0      264.0     493.0              1.00  \n2     HERB004849  SMHB00353     6230.0      353.0     613.0              1.00  \n3     HERB003232  SMHB00233     4112.0      233.0     437.0              1.00  \n4     HERB000638  SMHB00058     3396.0       58.0      80.0              1.00  \n...          ...        ...        ...        ...       ...               ...  \n1669  HERB006934        NaN     5748.0        NaN       NaN              0.15  \n1670  HERB001527        NaN     3347.0        NaN       NaN              0.15  \n1671  HERB005843        NaN     7833.0        NaN       NaN              0.15  \n1672  HERB003269        NaN     2090.0        NaN       NaN              0.15  \n1673  HERB006813        NaN     7903.0        NaN       NaN              0.15  \n\n[1674 rows x 20 columns]",
      "text/html": "<div>\n<style scoped>\n    .dataframe tbody tr th:only-of-type {\n        vertical-align: middle;\n    }\n\n    .dataframe tbody tr th {\n        vertical-align: top;\n    }\n\n    .dataframe thead th {\n        text-align: right;\n    }\n</style>\n<table border=\"1\" class=\"dataframe\">\n  <thead>\n    <tr style=\"text-align: right;\">\n      <th></th>\n      <th>HVMID</th>\n      <th>cn_name</th>\n      <th>pinyin_name</th>\n      <th>en_name</th>\n      <th>latin_name</th>\n      <th>Properties</th>\n      <th>Meridians</th>\n      <th>UsePart</th>\n      <th>Function</th>\n      <th>Indication</th>\n      <th>Toxicity</th>\n      <th>Clinical_manifestations</th>\n      <th>Therapeutic_en_class</th>\n      <th>Therapeutic_cn_class</th>\n      <th>HERB_id</th>\n      <th>TCMID_id</th>\n      <th>TCM_ID_id</th>\n      <th>SymMap_id</th>\n      <th>TCMSP_id</th>\n      <th>Importance Score</th>\n    </tr>\n  </thead>\n  <tbody>\n    <tr>\n      <th>0</th>\n      <td>HVM3081</td>\n      <td>桑叶</td>\n      <td>SANG YE</td>\n      <td>Mulberry Leaf</td>\n      <td>Folium Mori</td>\n      <td>Cold; Sweet; Bitter</td>\n      <td>Lung; Liver</td>\n      <td>leaf</td>\n      <td>To dispel wind-heat and to remove heat from th...</td>\n      <td>Wind-heat common cold, lung heat dry cough, di...</td>\n      <td>NaN</td>\n      <td>1. Lowering the level of blood sugar in rats w...</td>\n      <td>Pungent Cool Diaphoretics</td>\n      <td>辛凉解表药</td>\n      <td>HERB004834</td>\n      <td>SMHB00351</td>\n      <td>2356.0</td>\n      <td>351.0</td>\n      <td>608.0</td>\n      <td>1.00</td>\n    </tr>\n    <tr>\n      <th>1</th>\n      <td>HVM2346</td>\n      <td>麻黄</td>\n      <td>MA HUANG</td>\n      <td>Ephedra</td>\n      <td>Herba Ephedrae</td>\n      <td>Warm; Pungent; Slightly Bitter</td>\n      <td>Lung; Bladder</td>\n      <td>herbaceous twigs</td>\n      <td>To induce perspiration for dispelling cold, to...</td>\n      <td>Wind-cold exterior repletion syndrome, headach...</td>\n      <td>NaN</td>\n      <td>1. Its effects on cardiovascular system are si...</td>\n      <td>Pungent-Warm Exterior-Releasing Medicinal</td>\n      <td>辛温解表药</td>\n      <td>HERB003658</td>\n      <td>SMHB00264</td>\n      <td>1660.0</td>\n      <td>264.0</td>\n      <td>493.0</td>\n      <td>1.00</td>\n    </tr>\n    <tr>\n      <th>2</th>\n      <td>HVM3090</td>\n      <td>沙棘</td>\n      <td>SHA JI</td>\n      <td>fruit of seabuckthorn</td>\n      <td>fructus hippophae</td>\n      <td>Warm; Sour; Punkery</td>\n      <td>Large Intestine; Stomach; Small Intestine; Liver</td>\n      <td>NaN</td>\n      <td>NaN</td>\n      <td>NaN</td>\n      <td>NaN</td>\n      <td>NaN</td>\n      <td>Phlegresolving Medicine</td>\n      <td>化痰药</td>\n      <td>HERB004849</td>\n      <td>SMHB00353</td>\n      <td>6230.0</td>\n      <td>353.0</td>\n      <td>613.0</td>\n      <td>1.00</td>\n    </tr>\n    <tr>\n      <th>3</th>\n      <td>HVM2074</td>\n      <td>辣椒</td>\n      <td>LA JIAO</td>\n      <td>Hot pepper</td>\n      <td>fructus Capsici</td>\n      <td>Hot; Pungent</td>\n      <td>Spleen; Stomach; Heart</td>\n      <td>fruit</td>\n      <td>NaN</td>\n      <td>See Capsicum annuum.</td>\n      <td>NaN</td>\n      <td>NaN</td>\n      <td>External Medicinal (Draw Out Toxin, Resolve Pu...</td>\n      <td>拔毒化腐生肌药</td>\n      <td>HERB003232</td>\n      <td>SMHB00233</td>\n      <td>4112.0</td>\n      <td>233.0</td>\n      <td>437.0</td>\n      <td>1.00</td>\n    </tr>\n    <tr>\n      <th>4</th>\n      <td>HVM0367</td>\n      <td>柴胡</td>\n      <td>CHAI HU</td>\n      <td>root of Chinese Thorowax</td>\n      <td>Radix Bupleuri</td>\n      <td>Minor cold; Pungent; Bitter</td>\n      <td>Liver; Gallbladder</td>\n      <td>root</td>\n      <td>To relieve fever, to soothe the liver, and to ...</td>\n      <td>Common cold, influenza, malaria, acute pancrea...</td>\n      <td>NaN</td>\n      <td>1. Increasing the hypotic effect of barbital i...</td>\n      <td>Pungent Cool Diaphoretics</td>\n      <td>辛凉解表药</td>\n      <td>HERB000638</td>\n      <td>SMHB00058</td>\n      <td>3396.0</td>\n      <td>58.0</td>\n      <td>80.0</td>\n      <td>1.00</td>\n    </tr>\n    <tr>\n      <th>...</th>\n      <td>...</td>\n      <td>...</td>\n      <td>...</td>\n      <td>...</td>\n      <td>...</td>\n      <td>...</td>\n      <td>...</td>\n      <td>...</td>\n      <td>...</td>\n      <td>...</td>\n      <td>...</td>\n      <td>...</td>\n      <td>...</td>\n      <td>...</td>\n      <td>...</td>\n      <td>...</td>\n      <td>...</td>\n      <td>...</td>\n      <td>...</td>\n      <td>...</td>\n    </tr>\n    <tr>\n      <th>1669</th>\n      <td>HVM4436</td>\n      <td>樟树叶</td>\n      <td>ZHANG SHU YE</td>\n      <td>Folium seu Folium Cinnamomi camphorae</td>\n      <td>NaN</td>\n      <td>NaN</td>\n      <td>NaN</td>\n      <td>NaN</td>\n      <td>NaN</td>\n      <td>NaN</td>\n      <td>NaN</td>\n      <td>NaN</td>\n      <td>NaN</td>\n      <td>NaN</td>\n      <td>HERB006934</td>\n      <td>NaN</td>\n      <td>5748.0</td>\n      <td>NaN</td>\n      <td>NaN</td>\n      <td>0.15</td>\n    </tr>\n    <tr>\n      <th>1670</th>\n      <td>HVM0974</td>\n      <td>多穗石柯叶</td>\n      <td>DUO SUI SHI KE YE</td>\n      <td>Manyspike Tanoak Leaf</td>\n      <td>Lithocarpus polystachyus</td>\n      <td>NaN</td>\n      <td>NaN</td>\n      <td>leaf</td>\n      <td>To clear heat and resolve toxin, transform phl...</td>\n      <td>Hypertension, damp-heat diarrhea dysentery, lu...</td>\n      <td>NaN</td>\n      <td>NaN</td>\n      <td>NaN</td>\n      <td>NaN</td>\n      <td>HERB001527</td>\n      <td>NaN</td>\n      <td>3347.0</td>\n      <td>NaN</td>\n      <td>NaN</td>\n      <td>0.15</td>\n    </tr>\n    <tr>\n      <th>1671</th>\n      <td>HVM3712</td>\n      <td>锡兰肉桂</td>\n      <td>XI LAN ROU GUI</td>\n      <td>Ceylon Cinnamon</td>\n      <td>Cinnamomum zeylanicum</td>\n      <td>NaN</td>\n      <td>NaN</td>\n      <td>NaN</td>\n      <td>NaN</td>\n      <td>NaN</td>\n      <td>NaN</td>\n      <td>NaN</td>\n      <td>NaN</td>\n      <td>NaN</td>\n      <td>HERB005843</td>\n      <td>NaN</td>\n      <td>7833.0</td>\n      <td>NaN</td>\n      <td>NaN</td>\n      <td>0.15</td>\n    </tr>\n    <tr>\n      <th>1672</th>\n      <td>HVM2097</td>\n      <td>狼毒</td>\n      <td>LANG DU</td>\n      <td>Chinese Stellera</td>\n      <td>Stellera chamaejasme</td>\n      <td>NaN</td>\n      <td>NaN</td>\n      <td>root</td>\n      <td>To expel water and dispel phlegm, break accumu...</td>\n      <td>Edema distention fullness, a ccumulation from ...</td>\n      <td>NaN</td>\n      <td>NaN</td>\n      <td>NaN</td>\n      <td>NaN</td>\n      <td>HERB003269</td>\n      <td>NaN</td>\n      <td>2090.0</td>\n      <td>NaN</td>\n      <td>NaN</td>\n      <td>0.15</td>\n    </tr>\n    <tr>\n      <th>1673</th>\n      <td>HVM4354</td>\n      <td>月见草</td>\n      <td>YUE JIAN CAO</td>\n      <td>Radix oenotherae erythrosepalae</td>\n      <td>NaN</td>\n      <td>NaN</td>\n      <td>NaN</td>\n      <td>NaN</td>\n      <td>NaN</td>\n      <td>NaN</td>\n      <td>NaN</td>\n      <td>NaN</td>\n      <td>NaN</td>\n      <td>NaN</td>\n      <td>HERB006813</td>\n      <td>NaN</td>\n      <td>7903.0</td>\n      <td>NaN</td>\n      <td>NaN</td>\n      <td>0.15</td>\n    </tr>\n  </tbody>\n</table>\n<p>1674 rows × 20 columns</p>\n</div>"
     },
     "execution_count": 58,
     "metadata": {},
     "output_type": "execute_result"
    }
   ],
   "source": [
    "tcm = tcm.sort_values(by='Importance Score', ascending=False)\n",
    "\n",
    "# 重新设置索引\n",
    "tcm.index = range(tcm.shape[0])\n",
    "tcm"
   ],
   "metadata": {
    "collapsed": false,
    "ExecuteTime": {
     "start_time": "2023-04-08T10:51:30.294418Z",
     "end_time": "2023-04-08T10:51:30.345411Z"
    }
   }
  },
  {
   "cell_type": "markdown",
   "source": [
    "# 测试库"
   ],
   "metadata": {
    "collapsed": false
   }
  },
  {
   "cell_type": "code",
   "execution_count": 1,
   "outputs": [],
   "source": [
    "from herbiv import analysis"
   ],
   "metadata": {
    "collapsed": false,
    "ExecuteTime": {
     "start_time": "2023-04-08T17:47:47.775830Z",
     "end_time": "2023-04-08T17:47:48.341263Z"
    }
   }
  },
  {
   "cell_type": "code",
   "execution_count": 2,
   "outputs": [],
   "source": [
    "tcm, tcm_chem_links, chem_protein_links = analysis.from_tcm(['柴胡', '黄芩'])"
   ],
   "metadata": {
    "collapsed": false,
    "ExecuteTime": {
     "start_time": "2023-04-08T17:47:48.879549Z",
     "end_time": "2023-04-08T17:47:49.611672Z"
    }
   }
  },
  {
   "cell_type": "code",
   "execution_count": 3,
   "outputs": [
    {
     "data": {
      "text/plain": "     HVMID cn_name pinyin_name                   en_name          latin_name  \\\n0  HVM0367      柴胡     CHAI HU  root of Chinese Thorowax      Radix Bupleuri   \n1  HVM1695      黄芩   HUANG QIN   root of Baikal skullcap  Radix Scutellariae   \n\n                    Properties  \\\n0  Minor cold; Pungent; Bitter   \n1                 Cold; Bitter   \n\n                                           Meridians UsePart  \\\n0                                 Liver; Gallbladder    root   \n1  Lung; Large Intestine; Stomach; Small Intestin...    root   \n\n                                            Function  \\\n0  To relieve fever, to soothe the liver, and to ...   \n1  To remove damp-heat, to quench fire and counte...   \n\n                                          Indication Toxicity  \\\n0  Common cold, influenza, malaria, acute pancrea...      NaN   \n1  Chest oppression with retching, diarrhea, jaun...      NaN   \n\n                             Clinical_manifestations  \\\n0  1. Increasing the hypotic effect of barbital i...   \n1  1. Possessing a broad-spectrum bacteriostatic ...   \n\n                         Therapeutic_en_class Therapeutic_cn_class  \\\n0                   Pungent Cool Diaphoretics                辛凉解表药   \n1  Heat-Clearing And Dampnessdrying Medicinal                清热燥湿药   \n\n      HERB_id   TCMID_id  TCM_ID_id  SymMap_id  TCMSP_id  \n0  HERB000638  SMHB00058     3396.0       58.0      80.0  \n1  HERB002563  SMHB00188     6700.0      188.0     371.0  ",
      "text/html": "<div>\n<style scoped>\n    .dataframe tbody tr th:only-of-type {\n        vertical-align: middle;\n    }\n\n    .dataframe tbody tr th {\n        vertical-align: top;\n    }\n\n    .dataframe thead th {\n        text-align: right;\n    }\n</style>\n<table border=\"1\" class=\"dataframe\">\n  <thead>\n    <tr style=\"text-align: right;\">\n      <th></th>\n      <th>HVMID</th>\n      <th>cn_name</th>\n      <th>pinyin_name</th>\n      <th>en_name</th>\n      <th>latin_name</th>\n      <th>Properties</th>\n      <th>Meridians</th>\n      <th>UsePart</th>\n      <th>Function</th>\n      <th>Indication</th>\n      <th>Toxicity</th>\n      <th>Clinical_manifestations</th>\n      <th>Therapeutic_en_class</th>\n      <th>Therapeutic_cn_class</th>\n      <th>HERB_id</th>\n      <th>TCMID_id</th>\n      <th>TCM_ID_id</th>\n      <th>SymMap_id</th>\n      <th>TCMSP_id</th>\n    </tr>\n  </thead>\n  <tbody>\n    <tr>\n      <th>0</th>\n      <td>HVM0367</td>\n      <td>柴胡</td>\n      <td>CHAI HU</td>\n      <td>root of Chinese Thorowax</td>\n      <td>Radix Bupleuri</td>\n      <td>Minor cold; Pungent; Bitter</td>\n      <td>Liver; Gallbladder</td>\n      <td>root</td>\n      <td>To relieve fever, to soothe the liver, and to ...</td>\n      <td>Common cold, influenza, malaria, acute pancrea...</td>\n      <td>NaN</td>\n      <td>1. Increasing the hypotic effect of barbital i...</td>\n      <td>Pungent Cool Diaphoretics</td>\n      <td>辛凉解表药</td>\n      <td>HERB000638</td>\n      <td>SMHB00058</td>\n      <td>3396.0</td>\n      <td>58.0</td>\n      <td>80.0</td>\n    </tr>\n    <tr>\n      <th>1</th>\n      <td>HVM1695</td>\n      <td>黄芩</td>\n      <td>HUANG QIN</td>\n      <td>root of Baikal skullcap</td>\n      <td>Radix Scutellariae</td>\n      <td>Cold; Bitter</td>\n      <td>Lung; Large Intestine; Stomach; Small Intestin...</td>\n      <td>root</td>\n      <td>To remove damp-heat, to quench fire and counte...</td>\n      <td>Chest oppression with retching, diarrhea, jaun...</td>\n      <td>NaN</td>\n      <td>1. Possessing a broad-spectrum bacteriostatic ...</td>\n      <td>Heat-Clearing And Dampnessdrying Medicinal</td>\n      <td>清热燥湿药</td>\n      <td>HERB002563</td>\n      <td>SMHB00188</td>\n      <td>6700.0</td>\n      <td>188.0</td>\n      <td>371.0</td>\n    </tr>\n  </tbody>\n</table>\n</div>"
     },
     "execution_count": 3,
     "metadata": {},
     "output_type": "execute_result"
    }
   ],
   "source": [
    "tcm"
   ],
   "metadata": {
    "collapsed": false,
    "ExecuteTime": {
     "start_time": "2023-04-08T17:47:49.467151Z",
     "end_time": "2023-04-08T17:47:49.618674Z"
    }
   }
  },
  {
   "cell_type": "code",
   "execution_count": 4,
   "outputs": [
    {
     "data": {
      "text/plain": "       HVMID    HVCID\n0    HVM0367  HVC0284\n1    HVM0367  HVC3018\n2    HVM0367  HVC0396\n3    HVM0367  HVC1371\n4    HVM0367  HVC1045\n..       ...      ...\n449  HVM1695  HVC5439\n450  HVM1695  HVC0046\n451  HVM1695  HVC5535\n452  HVM1695  HVC5335\n453  HVM1695  HVC4272\n\n[454 rows x 2 columns]",
      "text/html": "<div>\n<style scoped>\n    .dataframe tbody tr th:only-of-type {\n        vertical-align: middle;\n    }\n\n    .dataframe tbody tr th {\n        vertical-align: top;\n    }\n\n    .dataframe thead th {\n        text-align: right;\n    }\n</style>\n<table border=\"1\" class=\"dataframe\">\n  <thead>\n    <tr style=\"text-align: right;\">\n      <th></th>\n      <th>HVMID</th>\n      <th>HVCID</th>\n    </tr>\n  </thead>\n  <tbody>\n    <tr>\n      <th>0</th>\n      <td>HVM0367</td>\n      <td>HVC0284</td>\n    </tr>\n    <tr>\n      <th>1</th>\n      <td>HVM0367</td>\n      <td>HVC3018</td>\n    </tr>\n    <tr>\n      <th>2</th>\n      <td>HVM0367</td>\n      <td>HVC0396</td>\n    </tr>\n    <tr>\n      <th>3</th>\n      <td>HVM0367</td>\n      <td>HVC1371</td>\n    </tr>\n    <tr>\n      <th>4</th>\n      <td>HVM0367</td>\n      <td>HVC1045</td>\n    </tr>\n    <tr>\n      <th>...</th>\n      <td>...</td>\n      <td>...</td>\n    </tr>\n    <tr>\n      <th>449</th>\n      <td>HVM1695</td>\n      <td>HVC5439</td>\n    </tr>\n    <tr>\n      <th>450</th>\n      <td>HVM1695</td>\n      <td>HVC0046</td>\n    </tr>\n    <tr>\n      <th>451</th>\n      <td>HVM1695</td>\n      <td>HVC5535</td>\n    </tr>\n    <tr>\n      <th>452</th>\n      <td>HVM1695</td>\n      <td>HVC5335</td>\n    </tr>\n    <tr>\n      <th>453</th>\n      <td>HVM1695</td>\n      <td>HVC4272</td>\n    </tr>\n  </tbody>\n</table>\n<p>454 rows × 2 columns</p>\n</div>"
     },
     "execution_count": 4,
     "metadata": {},
     "output_type": "execute_result"
    }
   ],
   "source": [
    "tcm_chem_links"
   ],
   "metadata": {
    "collapsed": false,
    "ExecuteTime": {
     "start_time": "2023-04-08T17:47:49.511681Z",
     "end_time": "2023-04-08T17:47:49.618674Z"
    }
   }
  },
  {
   "cell_type": "code",
   "execution_count": 5,
   "outputs": [
    {
     "data": {
      "text/plain": "        HVCID       Ensembl_ID  Combined_score\n0     HVC5547  ENSP00000297494           0.976\n1     HVC5512  ENSP00000260630           0.933\n2     HVC5512  ENSP00000369050           0.912\n3     HVC5493  ENSP00000260433           0.931\n4     HVC5480  ENSP00000274278           0.906\n...       ...              ...             ...\n2361  HVC0036  ENSP00000454071           0.962\n2362  HVC0036  ENSP00000458954           0.900\n2363  HVC0036  ENSP00000470240           0.927\n2364  HVC0036  ENSP00000471024           0.913\n2365  HVC0036  ENSP00000471397           0.986\n\n[2366 rows x 3 columns]",
      "text/html": "<div>\n<style scoped>\n    .dataframe tbody tr th:only-of-type {\n        vertical-align: middle;\n    }\n\n    .dataframe tbody tr th {\n        vertical-align: top;\n    }\n\n    .dataframe thead th {\n        text-align: right;\n    }\n</style>\n<table border=\"1\" class=\"dataframe\">\n  <thead>\n    <tr style=\"text-align: right;\">\n      <th></th>\n      <th>HVCID</th>\n      <th>Ensembl_ID</th>\n      <th>Combined_score</th>\n    </tr>\n  </thead>\n  <tbody>\n    <tr>\n      <th>0</th>\n      <td>HVC5547</td>\n      <td>ENSP00000297494</td>\n      <td>0.976</td>\n    </tr>\n    <tr>\n      <th>1</th>\n      <td>HVC5512</td>\n      <td>ENSP00000260630</td>\n      <td>0.933</td>\n    </tr>\n    <tr>\n      <th>2</th>\n      <td>HVC5512</td>\n      <td>ENSP00000369050</td>\n      <td>0.912</td>\n    </tr>\n    <tr>\n      <th>3</th>\n      <td>HVC5493</td>\n      <td>ENSP00000260433</td>\n      <td>0.931</td>\n    </tr>\n    <tr>\n      <th>4</th>\n      <td>HVC5480</td>\n      <td>ENSP00000274278</td>\n      <td>0.906</td>\n    </tr>\n    <tr>\n      <th>...</th>\n      <td>...</td>\n      <td>...</td>\n      <td>...</td>\n    </tr>\n    <tr>\n      <th>2361</th>\n      <td>HVC0036</td>\n      <td>ENSP00000454071</td>\n      <td>0.962</td>\n    </tr>\n    <tr>\n      <th>2362</th>\n      <td>HVC0036</td>\n      <td>ENSP00000458954</td>\n      <td>0.900</td>\n    </tr>\n    <tr>\n      <th>2363</th>\n      <td>HVC0036</td>\n      <td>ENSP00000470240</td>\n      <td>0.927</td>\n    </tr>\n    <tr>\n      <th>2364</th>\n      <td>HVC0036</td>\n      <td>ENSP00000471024</td>\n      <td>0.913</td>\n    </tr>\n    <tr>\n      <th>2365</th>\n      <td>HVC0036</td>\n      <td>ENSP00000471397</td>\n      <td>0.986</td>\n    </tr>\n  </tbody>\n</table>\n<p>2366 rows × 3 columns</p>\n</div>"
     },
     "execution_count": 5,
     "metadata": {},
     "output_type": "execute_result"
    }
   ],
   "source": [
    "chem_protein_links"
   ],
   "metadata": {
    "collapsed": false,
    "ExecuteTime": {
     "start_time": "2023-04-08T17:47:49.541679Z",
     "end_time": "2023-04-08T17:47:49.622674Z"
    }
   }
  },
  {
   "cell_type": "code",
   "execution_count": 6,
   "outputs": [],
   "source": [
    "tcm, tcm_chem_links = analysis.from_genes({'ENSP0000026332': 'ACACA', 'ENSP00000398698': 'TNF'}, score=0)"
   ],
   "metadata": {
    "collapsed": false,
    "ExecuteTime": {
     "start_time": "2023-04-08T17:47:49.576679Z",
     "end_time": "2023-04-08T17:47:58.780837Z"
    }
   }
  },
  {
   "cell_type": "code",
   "execution_count": 7,
   "outputs": [
    {
     "data": {
      "text/plain": "        HVMID cn_name        pinyin_name  \\\n0     HVM3081      桑叶            SANG YE   \n1     HVM2346      麻黄           MA HUANG   \n2     HVM3090      沙棘             SHA JI   \n3     HVM2074      辣椒            LA JIAO   \n4     HVM0367      柴胡            CHAI HU   \n...       ...     ...                ...   \n1669  HVM4436     樟树叶       ZHANG SHU YE   \n1670  HVM0974   多穗石柯叶  DUO SUI SHI KE YE   \n1671  HVM3712    锡兰肉桂     XI LAN ROU GUI   \n1672  HVM2097      狼毒            LANG DU   \n1673  HVM4354     月见草       YUE JIAN CAO   \n\n                                    en_name                latin_name  \\\n0                             Mulberry Leaf               Folium Mori   \n1                                   Ephedra            Herba Ephedrae   \n2                     fruit of seabuckthorn         fructus hippophae   \n3                                Hot pepper           fructus Capsici   \n4                  root of Chinese Thorowax            Radix Bupleuri   \n...                                     ...                       ...   \n1669  Folium seu Folium Cinnamomi camphorae                       NaN   \n1670                  Manyspike Tanoak Leaf  Lithocarpus polystachyus   \n1671                        Ceylon Cinnamon     Cinnamomum zeylanicum   \n1672                       Chinese Stellera      Stellera chamaejasme   \n1673        Radix oenotherae erythrosepalae                       NaN   \n\n                          Properties  \\\n0                Cold; Sweet; Bitter   \n1     Warm; Pungent; Slightly Bitter   \n2                Warm; Sour; Punkery   \n3                       Hot; Pungent   \n4        Minor cold; Pungent; Bitter   \n...                              ...   \n1669                             NaN   \n1670                             NaN   \n1671                             NaN   \n1672                             NaN   \n1673                             NaN   \n\n                                             Meridians           UsePart  \\\n0                                          Lung; Liver              leaf   \n1                                        Lung; Bladder  herbaceous twigs   \n2     Large Intestine; Stomach; Small Intestine; Liver               NaN   \n3                               Spleen; Stomach; Heart             fruit   \n4                                   Liver; Gallbladder              root   \n...                                                ...               ...   \n1669                                               NaN               NaN   \n1670                                               NaN              leaf   \n1671                                               NaN               NaN   \n1672                                               NaN              root   \n1673                                               NaN               NaN   \n\n                                               Function  \\\n0     To dispel wind-heat and to remove heat from th...   \n1     To induce perspiration for dispelling cold, to...   \n2                                                   NaN   \n3                                                   NaN   \n4     To relieve fever, to soothe the liver, and to ...   \n...                                                 ...   \n1669                                                NaN   \n1670  To clear heat and resolve toxin, transform phl...   \n1671                                                NaN   \n1672  To expel water and dispel phlegm, break accumu...   \n1673                                                NaN   \n\n                                             Indication Toxicity  \\\n0     Wind-heat common cold, lung heat dry cough, di...      NaN   \n1     Wind-cold exterior repletion syndrome, headach...      NaN   \n2                                                   NaN      NaN   \n3                                  See Capsicum annuum.      NaN   \n4     Common cold, influenza, malaria, acute pancrea...      NaN   \n...                                                 ...      ...   \n1669                                                NaN      NaN   \n1670  Hypertension, damp-heat diarrhea dysentery, lu...      NaN   \n1671                                                NaN      NaN   \n1672  Edema distention fullness, a ccumulation from ...      NaN   \n1673                                                NaN      NaN   \n\n                                Clinical_manifestations  \\\n0     1. Lowering the level of blood sugar in rats w...   \n1     1. Its effects on cardiovascular system are si...   \n2                                                   NaN   \n3                                                   NaN   \n4     1. Increasing the hypotic effect of barbital i...   \n...                                                 ...   \n1669                                                NaN   \n1670                                                NaN   \n1671                                                NaN   \n1672                                                NaN   \n1673                                                NaN   \n\n                                   Therapeutic_en_class Therapeutic_cn_class  \\\n0                             Pungent Cool Diaphoretics                辛凉解表药   \n1             Pungent-Warm Exterior-Releasing Medicinal                辛温解表药   \n2                               Phlegresolving Medicine                  化痰药   \n3     External Medicinal (Draw Out Toxin, Resolve Pu...              拔毒化腐生肌药   \n4                             Pungent Cool Diaphoretics                辛凉解表药   \n...                                                 ...                  ...   \n1669                                                NaN                  NaN   \n1670                                                NaN                  NaN   \n1671                                                NaN                  NaN   \n1672                                                NaN                  NaN   \n1673                                                NaN                  NaN   \n\n         HERB_id   TCMID_id  TCM_ID_id  SymMap_id  TCMSP_id  Importance Score  \n0     HERB004834  SMHB00351     2356.0      351.0     608.0              1.00  \n1     HERB003658  SMHB00264     1660.0      264.0     493.0              1.00  \n2     HERB004849  SMHB00353     6230.0      353.0     613.0              1.00  \n3     HERB003232  SMHB00233     4112.0      233.0     437.0              1.00  \n4     HERB000638  SMHB00058     3396.0       58.0      80.0              1.00  \n...          ...        ...        ...        ...       ...               ...  \n1669  HERB006934        NaN     5748.0        NaN       NaN              0.15  \n1670  HERB001527        NaN     3347.0        NaN       NaN              0.15  \n1671  HERB005843        NaN     7833.0        NaN       NaN              0.15  \n1672  HERB003269        NaN     2090.0        NaN       NaN              0.15  \n1673  HERB006813        NaN     7903.0        NaN       NaN              0.15  \n\n[1674 rows x 20 columns]",
      "text/html": "<div>\n<style scoped>\n    .dataframe tbody tr th:only-of-type {\n        vertical-align: middle;\n    }\n\n    .dataframe tbody tr th {\n        vertical-align: top;\n    }\n\n    .dataframe thead th {\n        text-align: right;\n    }\n</style>\n<table border=\"1\" class=\"dataframe\">\n  <thead>\n    <tr style=\"text-align: right;\">\n      <th></th>\n      <th>HVMID</th>\n      <th>cn_name</th>\n      <th>pinyin_name</th>\n      <th>en_name</th>\n      <th>latin_name</th>\n      <th>Properties</th>\n      <th>Meridians</th>\n      <th>UsePart</th>\n      <th>Function</th>\n      <th>Indication</th>\n      <th>Toxicity</th>\n      <th>Clinical_manifestations</th>\n      <th>Therapeutic_en_class</th>\n      <th>Therapeutic_cn_class</th>\n      <th>HERB_id</th>\n      <th>TCMID_id</th>\n      <th>TCM_ID_id</th>\n      <th>SymMap_id</th>\n      <th>TCMSP_id</th>\n      <th>Importance Score</th>\n    </tr>\n  </thead>\n  <tbody>\n    <tr>\n      <th>0</th>\n      <td>HVM3081</td>\n      <td>桑叶</td>\n      <td>SANG YE</td>\n      <td>Mulberry Leaf</td>\n      <td>Folium Mori</td>\n      <td>Cold; Sweet; Bitter</td>\n      <td>Lung; Liver</td>\n      <td>leaf</td>\n      <td>To dispel wind-heat and to remove heat from th...</td>\n      <td>Wind-heat common cold, lung heat dry cough, di...</td>\n      <td>NaN</td>\n      <td>1. Lowering the level of blood sugar in rats w...</td>\n      <td>Pungent Cool Diaphoretics</td>\n      <td>辛凉解表药</td>\n      <td>HERB004834</td>\n      <td>SMHB00351</td>\n      <td>2356.0</td>\n      <td>351.0</td>\n      <td>608.0</td>\n      <td>1.00</td>\n    </tr>\n    <tr>\n      <th>1</th>\n      <td>HVM2346</td>\n      <td>麻黄</td>\n      <td>MA HUANG</td>\n      <td>Ephedra</td>\n      <td>Herba Ephedrae</td>\n      <td>Warm; Pungent; Slightly Bitter</td>\n      <td>Lung; Bladder</td>\n      <td>herbaceous twigs</td>\n      <td>To induce perspiration for dispelling cold, to...</td>\n      <td>Wind-cold exterior repletion syndrome, headach...</td>\n      <td>NaN</td>\n      <td>1. Its effects on cardiovascular system are si...</td>\n      <td>Pungent-Warm Exterior-Releasing Medicinal</td>\n      <td>辛温解表药</td>\n      <td>HERB003658</td>\n      <td>SMHB00264</td>\n      <td>1660.0</td>\n      <td>264.0</td>\n      <td>493.0</td>\n      <td>1.00</td>\n    </tr>\n    <tr>\n      <th>2</th>\n      <td>HVM3090</td>\n      <td>沙棘</td>\n      <td>SHA JI</td>\n      <td>fruit of seabuckthorn</td>\n      <td>fructus hippophae</td>\n      <td>Warm; Sour; Punkery</td>\n      <td>Large Intestine; Stomach; Small Intestine; Liver</td>\n      <td>NaN</td>\n      <td>NaN</td>\n      <td>NaN</td>\n      <td>NaN</td>\n      <td>NaN</td>\n      <td>Phlegresolving Medicine</td>\n      <td>化痰药</td>\n      <td>HERB004849</td>\n      <td>SMHB00353</td>\n      <td>6230.0</td>\n      <td>353.0</td>\n      <td>613.0</td>\n      <td>1.00</td>\n    </tr>\n    <tr>\n      <th>3</th>\n      <td>HVM2074</td>\n      <td>辣椒</td>\n      <td>LA JIAO</td>\n      <td>Hot pepper</td>\n      <td>fructus Capsici</td>\n      <td>Hot; Pungent</td>\n      <td>Spleen; Stomach; Heart</td>\n      <td>fruit</td>\n      <td>NaN</td>\n      <td>See Capsicum annuum.</td>\n      <td>NaN</td>\n      <td>NaN</td>\n      <td>External Medicinal (Draw Out Toxin, Resolve Pu...</td>\n      <td>拔毒化腐生肌药</td>\n      <td>HERB003232</td>\n      <td>SMHB00233</td>\n      <td>4112.0</td>\n      <td>233.0</td>\n      <td>437.0</td>\n      <td>1.00</td>\n    </tr>\n    <tr>\n      <th>4</th>\n      <td>HVM0367</td>\n      <td>柴胡</td>\n      <td>CHAI HU</td>\n      <td>root of Chinese Thorowax</td>\n      <td>Radix Bupleuri</td>\n      <td>Minor cold; Pungent; Bitter</td>\n      <td>Liver; Gallbladder</td>\n      <td>root</td>\n      <td>To relieve fever, to soothe the liver, and to ...</td>\n      <td>Common cold, influenza, malaria, acute pancrea...</td>\n      <td>NaN</td>\n      <td>1. Increasing the hypotic effect of barbital i...</td>\n      <td>Pungent Cool Diaphoretics</td>\n      <td>辛凉解表药</td>\n      <td>HERB000638</td>\n      <td>SMHB00058</td>\n      <td>3396.0</td>\n      <td>58.0</td>\n      <td>80.0</td>\n      <td>1.00</td>\n    </tr>\n    <tr>\n      <th>...</th>\n      <td>...</td>\n      <td>...</td>\n      <td>...</td>\n      <td>...</td>\n      <td>...</td>\n      <td>...</td>\n      <td>...</td>\n      <td>...</td>\n      <td>...</td>\n      <td>...</td>\n      <td>...</td>\n      <td>...</td>\n      <td>...</td>\n      <td>...</td>\n      <td>...</td>\n      <td>...</td>\n      <td>...</td>\n      <td>...</td>\n      <td>...</td>\n      <td>...</td>\n    </tr>\n    <tr>\n      <th>1669</th>\n      <td>HVM4436</td>\n      <td>樟树叶</td>\n      <td>ZHANG SHU YE</td>\n      <td>Folium seu Folium Cinnamomi camphorae</td>\n      <td>NaN</td>\n      <td>NaN</td>\n      <td>NaN</td>\n      <td>NaN</td>\n      <td>NaN</td>\n      <td>NaN</td>\n      <td>NaN</td>\n      <td>NaN</td>\n      <td>NaN</td>\n      <td>NaN</td>\n      <td>HERB006934</td>\n      <td>NaN</td>\n      <td>5748.0</td>\n      <td>NaN</td>\n      <td>NaN</td>\n      <td>0.15</td>\n    </tr>\n    <tr>\n      <th>1670</th>\n      <td>HVM0974</td>\n      <td>多穗石柯叶</td>\n      <td>DUO SUI SHI KE YE</td>\n      <td>Manyspike Tanoak Leaf</td>\n      <td>Lithocarpus polystachyus</td>\n      <td>NaN</td>\n      <td>NaN</td>\n      <td>leaf</td>\n      <td>To clear heat and resolve toxin, transform phl...</td>\n      <td>Hypertension, damp-heat diarrhea dysentery, lu...</td>\n      <td>NaN</td>\n      <td>NaN</td>\n      <td>NaN</td>\n      <td>NaN</td>\n      <td>HERB001527</td>\n      <td>NaN</td>\n      <td>3347.0</td>\n      <td>NaN</td>\n      <td>NaN</td>\n      <td>0.15</td>\n    </tr>\n    <tr>\n      <th>1671</th>\n      <td>HVM3712</td>\n      <td>锡兰肉桂</td>\n      <td>XI LAN ROU GUI</td>\n      <td>Ceylon Cinnamon</td>\n      <td>Cinnamomum zeylanicum</td>\n      <td>NaN</td>\n      <td>NaN</td>\n      <td>NaN</td>\n      <td>NaN</td>\n      <td>NaN</td>\n      <td>NaN</td>\n      <td>NaN</td>\n      <td>NaN</td>\n      <td>NaN</td>\n      <td>HERB005843</td>\n      <td>NaN</td>\n      <td>7833.0</td>\n      <td>NaN</td>\n      <td>NaN</td>\n      <td>0.15</td>\n    </tr>\n    <tr>\n      <th>1672</th>\n      <td>HVM2097</td>\n      <td>狼毒</td>\n      <td>LANG DU</td>\n      <td>Chinese Stellera</td>\n      <td>Stellera chamaejasme</td>\n      <td>NaN</td>\n      <td>NaN</td>\n      <td>root</td>\n      <td>To expel water and dispel phlegm, break accumu...</td>\n      <td>Edema distention fullness, a ccumulation from ...</td>\n      <td>NaN</td>\n      <td>NaN</td>\n      <td>NaN</td>\n      <td>NaN</td>\n      <td>HERB003269</td>\n      <td>NaN</td>\n      <td>2090.0</td>\n      <td>NaN</td>\n      <td>NaN</td>\n      <td>0.15</td>\n    </tr>\n    <tr>\n      <th>1673</th>\n      <td>HVM4354</td>\n      <td>月见草</td>\n      <td>YUE JIAN CAO</td>\n      <td>Radix oenotherae erythrosepalae</td>\n      <td>NaN</td>\n      <td>NaN</td>\n      <td>NaN</td>\n      <td>NaN</td>\n      <td>NaN</td>\n      <td>NaN</td>\n      <td>NaN</td>\n      <td>NaN</td>\n      <td>NaN</td>\n      <td>NaN</td>\n      <td>HERB006813</td>\n      <td>NaN</td>\n      <td>7903.0</td>\n      <td>NaN</td>\n      <td>NaN</td>\n      <td>0.15</td>\n    </tr>\n  </tbody>\n</table>\n<p>1674 rows × 20 columns</p>\n</div>"
     },
     "execution_count": 7,
     "metadata": {},
     "output_type": "execute_result"
    }
   ],
   "source": [
    "tcm"
   ],
   "metadata": {
    "collapsed": false,
    "ExecuteTime": {
     "start_time": "2023-04-08T17:47:58.783170Z",
     "end_time": "2023-04-08T17:47:58.838092Z"
    }
   }
  },
  {
   "cell_type": "code",
   "execution_count": 8,
   "outputs": [
    {
     "data": {
      "text/plain": "        HVMID    HVCID\n0     HVM0008  HVC0292\n1     HVM0008  HVC0296\n2     HVM0008  HVC5451\n3     HVM0009  HVC0085\n4     HVM0010  HVC0101\n...       ...      ...\n6510  HVM4656  HVC0647\n6511  HVM4657  HVC0292\n6512  HVM4657  HVC0060\n6513  HVM4657  HVC0085\n6514  HVM4658  HVC0060\n\n[6515 rows x 2 columns]",
      "text/html": "<div>\n<style scoped>\n    .dataframe tbody tr th:only-of-type {\n        vertical-align: middle;\n    }\n\n    .dataframe tbody tr th {\n        vertical-align: top;\n    }\n\n    .dataframe thead th {\n        text-align: right;\n    }\n</style>\n<table border=\"1\" class=\"dataframe\">\n  <thead>\n    <tr style=\"text-align: right;\">\n      <th></th>\n      <th>HVMID</th>\n      <th>HVCID</th>\n    </tr>\n  </thead>\n  <tbody>\n    <tr>\n      <th>0</th>\n      <td>HVM0008</td>\n      <td>HVC0292</td>\n    </tr>\n    <tr>\n      <th>1</th>\n      <td>HVM0008</td>\n      <td>HVC0296</td>\n    </tr>\n    <tr>\n      <th>2</th>\n      <td>HVM0008</td>\n      <td>HVC5451</td>\n    </tr>\n    <tr>\n      <th>3</th>\n      <td>HVM0009</td>\n      <td>HVC0085</td>\n    </tr>\n    <tr>\n      <th>4</th>\n      <td>HVM0010</td>\n      <td>HVC0101</td>\n    </tr>\n    <tr>\n      <th>...</th>\n      <td>...</td>\n      <td>...</td>\n    </tr>\n    <tr>\n      <th>6510</th>\n      <td>HVM4656</td>\n      <td>HVC0647</td>\n    </tr>\n    <tr>\n      <th>6511</th>\n      <td>HVM4657</td>\n      <td>HVC0292</td>\n    </tr>\n    <tr>\n      <th>6512</th>\n      <td>HVM4657</td>\n      <td>HVC0060</td>\n    </tr>\n    <tr>\n      <th>6513</th>\n      <td>HVM4657</td>\n      <td>HVC0085</td>\n    </tr>\n    <tr>\n      <th>6514</th>\n      <td>HVM4658</td>\n      <td>HVC0060</td>\n    </tr>\n  </tbody>\n</table>\n<p>6515 rows × 2 columns</p>\n</div>"
     },
     "execution_count": 8,
     "metadata": {},
     "output_type": "execute_result"
    }
   ],
   "source": [
    "tcm_chem_links"
   ],
   "metadata": {
    "collapsed": false,
    "ExecuteTime": {
     "start_time": "2023-04-08T17:47:58.820092Z",
     "end_time": "2023-04-08T17:47:58.871894Z"
    }
   }
  },
  {
   "cell_type": "code",
   "execution_count": null,
   "outputs": [],
   "source": [],
   "metadata": {
    "collapsed": false
   }
  }
 ],
 "metadata": {
  "kernelspec": {
   "display_name": "Python 3",
   "language": "python",
   "name": "python3"
  },
  "language_info": {
   "codemirror_mode": {
    "name": "ipython",
    "version": 2
   },
   "file_extension": ".py",
   "mimetype": "text/x-python",
   "name": "python",
   "nbconvert_exporter": "python",
   "pygments_lexer": "ipython2",
   "version": "2.7.6"
  }
 },
 "nbformat": 4,
 "nbformat_minor": 0
}
