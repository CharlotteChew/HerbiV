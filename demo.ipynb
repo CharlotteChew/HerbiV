{
 "cells": [
  {
   "cell_type": "code",
   "execution_count": 1,
   "metadata": {
    "collapsed": true,
    "ExecuteTime": {
     "start_time": "2023-04-09T17:08:52.458393Z",
     "end_time": "2023-04-09T17:08:53.438050Z"
    }
   },
   "outputs": [],
   "source": [
    "from herbiv import analysis\n",
    "tcm, tcm_chem_links, chem_protein_links = analysis.from_tcm(['柴胡', '黄芩'])"
   ]
  },
  {
   "cell_type": "code",
   "execution_count": 2,
   "outputs": [
    {
     "data": {
      "text/plain": "     HVMID cn_name pinyin_name                   en_name          latin_name  \\\n0  HVM0367      柴胡     CHAI HU  root of Chinese Thorowax      Radix Bupleuri   \n1  HVM1695      黄芩   HUANG QIN   root of Baikal skullcap  Radix Scutellariae   \n\n                    Properties  \\\n0  Minor cold; Pungent; Bitter   \n1                 Cold; Bitter   \n\n                                           Meridians UsePart  \\\n0                                 Liver; Gallbladder    root   \n1  Lung; Large Intestine; Stomach; Small Intestin...    root   \n\n                                            Function  \\\n0  To relieve fever, to soothe the liver, and to ...   \n1  To remove damp-heat, to quench fire and counte...   \n\n                                          Indication Toxicity  \\\n0  Common cold, influenza, malaria, acute pancrea...      NaN   \n1  Chest oppression with retching, diarrhea, jaun...      NaN   \n\n                             Clinical_manifestations  \\\n0  1. Increasing the hypotic effect of barbital i...   \n1  1. Possessing a broad-spectrum bacteriostatic ...   \n\n                         Therapeutic_en_class Therapeutic_cn_class  \\\n0                   Pungent Cool Diaphoretics                辛凉解表药   \n1  Heat-Clearing And Dampnessdrying Medicinal                清热燥湿药   \n\n      HERB_id   TCMID_id  TCM_ID_id  SymMap_id  TCMSP_id  \n0  HERB000638  SMHB00058     3396.0       58.0      80.0  \n1  HERB002563  SMHB00188     6700.0      188.0     371.0  ",
      "text/html": "<div>\n<style scoped>\n    .dataframe tbody tr th:only-of-type {\n        vertical-align: middle;\n    }\n\n    .dataframe tbody tr th {\n        vertical-align: top;\n    }\n\n    .dataframe thead th {\n        text-align: right;\n    }\n</style>\n<table border=\"1\" class=\"dataframe\">\n  <thead>\n    <tr style=\"text-align: right;\">\n      <th></th>\n      <th>HVMID</th>\n      <th>cn_name</th>\n      <th>pinyin_name</th>\n      <th>en_name</th>\n      <th>latin_name</th>\n      <th>Properties</th>\n      <th>Meridians</th>\n      <th>UsePart</th>\n      <th>Function</th>\n      <th>Indication</th>\n      <th>Toxicity</th>\n      <th>Clinical_manifestations</th>\n      <th>Therapeutic_en_class</th>\n      <th>Therapeutic_cn_class</th>\n      <th>HERB_id</th>\n      <th>TCMID_id</th>\n      <th>TCM_ID_id</th>\n      <th>SymMap_id</th>\n      <th>TCMSP_id</th>\n    </tr>\n  </thead>\n  <tbody>\n    <tr>\n      <th>0</th>\n      <td>HVM0367</td>\n      <td>柴胡</td>\n      <td>CHAI HU</td>\n      <td>root of Chinese Thorowax</td>\n      <td>Radix Bupleuri</td>\n      <td>Minor cold; Pungent; Bitter</td>\n      <td>Liver; Gallbladder</td>\n      <td>root</td>\n      <td>To relieve fever, to soothe the liver, and to ...</td>\n      <td>Common cold, influenza, malaria, acute pancrea...</td>\n      <td>NaN</td>\n      <td>1. Increasing the hypotic effect of barbital i...</td>\n      <td>Pungent Cool Diaphoretics</td>\n      <td>辛凉解表药</td>\n      <td>HERB000638</td>\n      <td>SMHB00058</td>\n      <td>3396.0</td>\n      <td>58.0</td>\n      <td>80.0</td>\n    </tr>\n    <tr>\n      <th>1</th>\n      <td>HVM1695</td>\n      <td>黄芩</td>\n      <td>HUANG QIN</td>\n      <td>root of Baikal skullcap</td>\n      <td>Radix Scutellariae</td>\n      <td>Cold; Bitter</td>\n      <td>Lung; Large Intestine; Stomach; Small Intestin...</td>\n      <td>root</td>\n      <td>To remove damp-heat, to quench fire and counte...</td>\n      <td>Chest oppression with retching, diarrhea, jaun...</td>\n      <td>NaN</td>\n      <td>1. Possessing a broad-spectrum bacteriostatic ...</td>\n      <td>Heat-Clearing And Dampnessdrying Medicinal</td>\n      <td>清热燥湿药</td>\n      <td>HERB002563</td>\n      <td>SMHB00188</td>\n      <td>6700.0</td>\n      <td>188.0</td>\n      <td>371.0</td>\n    </tr>\n  </tbody>\n</table>\n</div>"
     },
     "execution_count": 2,
     "metadata": {},
     "output_type": "execute_result"
    }
   ],
   "source": [
    "tcm"
   ],
   "metadata": {
    "collapsed": false,
    "ExecuteTime": {
     "start_time": "2023-04-09T17:08:55.305194Z",
     "end_time": "2023-04-09T17:08:55.368197Z"
    }
   }
  },
  {
   "cell_type": "code",
   "execution_count": 3,
   "outputs": [
    {
     "data": {
      "text/plain": "       HVMID    HVCID\n0    HVM0367  HVC0284\n1    HVM0367  HVC3018\n2    HVM0367  HVC0396\n3    HVM0367  HVC1371\n4    HVM0367  HVC1045\n..       ...      ...\n449  HVM1695  HVC5439\n450  HVM1695  HVC0046\n451  HVM1695  HVC5535\n452  HVM1695  HVC5335\n453  HVM1695  HVC4272\n\n[454 rows x 2 columns]",
      "text/html": "<div>\n<style scoped>\n    .dataframe tbody tr th:only-of-type {\n        vertical-align: middle;\n    }\n\n    .dataframe tbody tr th {\n        vertical-align: top;\n    }\n\n    .dataframe thead th {\n        text-align: right;\n    }\n</style>\n<table border=\"1\" class=\"dataframe\">\n  <thead>\n    <tr style=\"text-align: right;\">\n      <th></th>\n      <th>HVMID</th>\n      <th>HVCID</th>\n    </tr>\n  </thead>\n  <tbody>\n    <tr>\n      <th>0</th>\n      <td>HVM0367</td>\n      <td>HVC0284</td>\n    </tr>\n    <tr>\n      <th>1</th>\n      <td>HVM0367</td>\n      <td>HVC3018</td>\n    </tr>\n    <tr>\n      <th>2</th>\n      <td>HVM0367</td>\n      <td>HVC0396</td>\n    </tr>\n    <tr>\n      <th>3</th>\n      <td>HVM0367</td>\n      <td>HVC1371</td>\n    </tr>\n    <tr>\n      <th>4</th>\n      <td>HVM0367</td>\n      <td>HVC1045</td>\n    </tr>\n    <tr>\n      <th>...</th>\n      <td>...</td>\n      <td>...</td>\n    </tr>\n    <tr>\n      <th>449</th>\n      <td>HVM1695</td>\n      <td>HVC5439</td>\n    </tr>\n    <tr>\n      <th>450</th>\n      <td>HVM1695</td>\n      <td>HVC0046</td>\n    </tr>\n    <tr>\n      <th>451</th>\n      <td>HVM1695</td>\n      <td>HVC5535</td>\n    </tr>\n    <tr>\n      <th>452</th>\n      <td>HVM1695</td>\n      <td>HVC5335</td>\n    </tr>\n    <tr>\n      <th>453</th>\n      <td>HVM1695</td>\n      <td>HVC4272</td>\n    </tr>\n  </tbody>\n</table>\n<p>454 rows × 2 columns</p>\n</div>"
     },
     "execution_count": 3,
     "metadata": {},
     "output_type": "execute_result"
    }
   ],
   "source": [
    "tcm_chem_links"
   ],
   "metadata": {
    "collapsed": false,
    "ExecuteTime": {
     "start_time": "2023-04-09T17:09:01.661472Z",
     "end_time": "2023-04-09T17:09:01.723471Z"
    }
   }
  },
  {
   "cell_type": "code",
   "execution_count": 4,
   "outputs": [
    {
     "data": {
      "text/plain": "        HVCID       Ensembl_ID  Combined_score\n0     HVC5547  ENSP00000297494           0.976\n1     HVC5512  ENSP00000260630           0.933\n2     HVC5512  ENSP00000369050           0.912\n3     HVC5493  ENSP00000260433           0.931\n4     HVC5480  ENSP00000274278           0.906\n...       ...              ...             ...\n2361  HVC0036  ENSP00000454071           0.962\n2362  HVC0036  ENSP00000458954           0.900\n2363  HVC0036  ENSP00000470240           0.927\n2364  HVC0036  ENSP00000471024           0.913\n2365  HVC0036  ENSP00000471397           0.986\n\n[2366 rows x 3 columns]",
      "text/html": "<div>\n<style scoped>\n    .dataframe tbody tr th:only-of-type {\n        vertical-align: middle;\n    }\n\n    .dataframe tbody tr th {\n        vertical-align: top;\n    }\n\n    .dataframe thead th {\n        text-align: right;\n    }\n</style>\n<table border=\"1\" class=\"dataframe\">\n  <thead>\n    <tr style=\"text-align: right;\">\n      <th></th>\n      <th>HVCID</th>\n      <th>Ensembl_ID</th>\n      <th>Combined_score</th>\n    </tr>\n  </thead>\n  <tbody>\n    <tr>\n      <th>0</th>\n      <td>HVC5547</td>\n      <td>ENSP00000297494</td>\n      <td>0.976</td>\n    </tr>\n    <tr>\n      <th>1</th>\n      <td>HVC5512</td>\n      <td>ENSP00000260630</td>\n      <td>0.933</td>\n    </tr>\n    <tr>\n      <th>2</th>\n      <td>HVC5512</td>\n      <td>ENSP00000369050</td>\n      <td>0.912</td>\n    </tr>\n    <tr>\n      <th>3</th>\n      <td>HVC5493</td>\n      <td>ENSP00000260433</td>\n      <td>0.931</td>\n    </tr>\n    <tr>\n      <th>4</th>\n      <td>HVC5480</td>\n      <td>ENSP00000274278</td>\n      <td>0.906</td>\n    </tr>\n    <tr>\n      <th>...</th>\n      <td>...</td>\n      <td>...</td>\n      <td>...</td>\n    </tr>\n    <tr>\n      <th>2361</th>\n      <td>HVC0036</td>\n      <td>ENSP00000454071</td>\n      <td>0.962</td>\n    </tr>\n    <tr>\n      <th>2362</th>\n      <td>HVC0036</td>\n      <td>ENSP00000458954</td>\n      <td>0.900</td>\n    </tr>\n    <tr>\n      <th>2363</th>\n      <td>HVC0036</td>\n      <td>ENSP00000470240</td>\n      <td>0.927</td>\n    </tr>\n    <tr>\n      <th>2364</th>\n      <td>HVC0036</td>\n      <td>ENSP00000471024</td>\n      <td>0.913</td>\n    </tr>\n    <tr>\n      <th>2365</th>\n      <td>HVC0036</td>\n      <td>ENSP00000471397</td>\n      <td>0.986</td>\n    </tr>\n  </tbody>\n</table>\n<p>2366 rows × 3 columns</p>\n</div>"
     },
     "execution_count": 4,
     "metadata": {},
     "output_type": "execute_result"
    }
   ],
   "source": [
    "chem_protein_links"
   ],
   "metadata": {
    "collapsed": false,
    "ExecuteTime": {
     "start_time": "2023-04-09T17:09:07.453624Z",
     "end_time": "2023-04-09T17:09:07.509644Z"
    }
   }
  },
  {
   "cell_type": "code",
   "execution_count": 5,
   "outputs": [],
   "source": [
    "tcm, tcm_chem_links, chem_protein_links = analysis.from_genes({'ENSP0000026332': 'ACACA', 'ENSP00000398698': 'TNF'}, score=0)"
   ],
   "metadata": {
    "collapsed": false,
    "ExecuteTime": {
     "start_time": "2023-04-09T17:09:45.338995Z",
     "end_time": "2023-04-09T17:09:53.326301Z"
    }
   }
  },
  {
   "cell_type": "code",
   "execution_count": 6,
   "outputs": [
    {
     "data": {
      "text/plain": "        HVMID cn_name        pinyin_name  \\\n0     HVM3081      桑叶            SANG YE   \n1     HVM2346      麻黄           MA HUANG   \n2     HVM3090      沙棘             SHA JI   \n3     HVM2074      辣椒            LA JIAO   \n4     HVM0367      柴胡            CHAI HU   \n...       ...     ...                ...   \n1669  HVM4436     樟树叶       ZHANG SHU YE   \n1670  HVM0974   多穗石柯叶  DUO SUI SHI KE YE   \n1671  HVM3712    锡兰肉桂     XI LAN ROU GUI   \n1672  HVM2097      狼毒            LANG DU   \n1673  HVM4354     月见草       YUE JIAN CAO   \n\n                                    en_name                latin_name  \\\n0                             Mulberry Leaf               Folium Mori   \n1                                   Ephedra            Herba Ephedrae   \n2                     fruit of seabuckthorn         fructus hippophae   \n3                                Hot pepper           fructus Capsici   \n4                  root of Chinese Thorowax            Radix Bupleuri   \n...                                     ...                       ...   \n1669  Folium seu Folium Cinnamomi camphorae                       NaN   \n1670                  Manyspike Tanoak Leaf  Lithocarpus polystachyus   \n1671                        Ceylon Cinnamon     Cinnamomum zeylanicum   \n1672                       Chinese Stellera      Stellera chamaejasme   \n1673        Radix oenotherae erythrosepalae                       NaN   \n\n                          Properties  \\\n0                Cold; Sweet; Bitter   \n1     Warm; Pungent; Slightly Bitter   \n2                Warm; Sour; Punkery   \n3                       Hot; Pungent   \n4        Minor cold; Pungent; Bitter   \n...                              ...   \n1669                             NaN   \n1670                             NaN   \n1671                             NaN   \n1672                             NaN   \n1673                             NaN   \n\n                                             Meridians           UsePart  \\\n0                                          Lung; Liver              leaf   \n1                                        Lung; Bladder  herbaceous twigs   \n2     Large Intestine; Stomach; Small Intestine; Liver               NaN   \n3                               Spleen; Stomach; Heart             fruit   \n4                                   Liver; Gallbladder              root   \n...                                                ...               ...   \n1669                                               NaN               NaN   \n1670                                               NaN              leaf   \n1671                                               NaN               NaN   \n1672                                               NaN              root   \n1673                                               NaN               NaN   \n\n                                               Function  \\\n0     To dispel wind-heat and to remove heat from th...   \n1     To induce perspiration for dispelling cold, to...   \n2                                                   NaN   \n3                                                   NaN   \n4     To relieve fever, to soothe the liver, and to ...   \n...                                                 ...   \n1669                                                NaN   \n1670  To clear heat and resolve toxin, transform phl...   \n1671                                                NaN   \n1672  To expel water and dispel phlegm, break accumu...   \n1673                                                NaN   \n\n                                             Indication Toxicity  \\\n0     Wind-heat common cold, lung heat dry cough, di...      NaN   \n1     Wind-cold exterior repletion syndrome, headach...      NaN   \n2                                                   NaN      NaN   \n3                                  See Capsicum annuum.      NaN   \n4     Common cold, influenza, malaria, acute pancrea...      NaN   \n...                                                 ...      ...   \n1669                                                NaN      NaN   \n1670  Hypertension, damp-heat diarrhea dysentery, lu...      NaN   \n1671                                                NaN      NaN   \n1672  Edema distention fullness, a ccumulation from ...      NaN   \n1673                                                NaN      NaN   \n\n                                Clinical_manifestations  \\\n0     1. Lowering the level of blood sugar in rats w...   \n1     1. Its effects on cardiovascular system are si...   \n2                                                   NaN   \n3                                                   NaN   \n4     1. Increasing the hypotic effect of barbital i...   \n...                                                 ...   \n1669                                                NaN   \n1670                                                NaN   \n1671                                                NaN   \n1672                                                NaN   \n1673                                                NaN   \n\n                                   Therapeutic_en_class Therapeutic_cn_class  \\\n0                             Pungent Cool Diaphoretics                辛凉解表药   \n1             Pungent-Warm Exterior-Releasing Medicinal                辛温解表药   \n2                               Phlegresolving Medicine                  化痰药   \n3     External Medicinal (Draw Out Toxin, Resolve Pu...              拔毒化腐生肌药   \n4                             Pungent Cool Diaphoretics                辛凉解表药   \n...                                                 ...                  ...   \n1669                                                NaN                  NaN   \n1670                                                NaN                  NaN   \n1671                                                NaN                  NaN   \n1672                                                NaN                  NaN   \n1673                                                NaN                  NaN   \n\n         HERB_id   TCMID_id  TCM_ID_id  SymMap_id  TCMSP_id  Importance Score  \n0     HERB004834  SMHB00351     2356.0      351.0     608.0              1.00  \n1     HERB003658  SMHB00264     1660.0      264.0     493.0              1.00  \n2     HERB004849  SMHB00353     6230.0      353.0     613.0              1.00  \n3     HERB003232  SMHB00233     4112.0      233.0     437.0              1.00  \n4     HERB000638  SMHB00058     3396.0       58.0      80.0              1.00  \n...          ...        ...        ...        ...       ...               ...  \n1669  HERB006934        NaN     5748.0        NaN       NaN              0.15  \n1670  HERB001527        NaN     3347.0        NaN       NaN              0.15  \n1671  HERB005843        NaN     7833.0        NaN       NaN              0.15  \n1672  HERB003269        NaN     2090.0        NaN       NaN              0.15  \n1673  HERB006813        NaN     7903.0        NaN       NaN              0.15  \n\n[1674 rows x 20 columns]",
      "text/html": "<div>\n<style scoped>\n    .dataframe tbody tr th:only-of-type {\n        vertical-align: middle;\n    }\n\n    .dataframe tbody tr th {\n        vertical-align: top;\n    }\n\n    .dataframe thead th {\n        text-align: right;\n    }\n</style>\n<table border=\"1\" class=\"dataframe\">\n  <thead>\n    <tr style=\"text-align: right;\">\n      <th></th>\n      <th>HVMID</th>\n      <th>cn_name</th>\n      <th>pinyin_name</th>\n      <th>en_name</th>\n      <th>latin_name</th>\n      <th>Properties</th>\n      <th>Meridians</th>\n      <th>UsePart</th>\n      <th>Function</th>\n      <th>Indication</th>\n      <th>Toxicity</th>\n      <th>Clinical_manifestations</th>\n      <th>Therapeutic_en_class</th>\n      <th>Therapeutic_cn_class</th>\n      <th>HERB_id</th>\n      <th>TCMID_id</th>\n      <th>TCM_ID_id</th>\n      <th>SymMap_id</th>\n      <th>TCMSP_id</th>\n      <th>Importance Score</th>\n    </tr>\n  </thead>\n  <tbody>\n    <tr>\n      <th>0</th>\n      <td>HVM3081</td>\n      <td>桑叶</td>\n      <td>SANG YE</td>\n      <td>Mulberry Leaf</td>\n      <td>Folium Mori</td>\n      <td>Cold; Sweet; Bitter</td>\n      <td>Lung; Liver</td>\n      <td>leaf</td>\n      <td>To dispel wind-heat and to remove heat from th...</td>\n      <td>Wind-heat common cold, lung heat dry cough, di...</td>\n      <td>NaN</td>\n      <td>1. Lowering the level of blood sugar in rats w...</td>\n      <td>Pungent Cool Diaphoretics</td>\n      <td>辛凉解表药</td>\n      <td>HERB004834</td>\n      <td>SMHB00351</td>\n      <td>2356.0</td>\n      <td>351.0</td>\n      <td>608.0</td>\n      <td>1.00</td>\n    </tr>\n    <tr>\n      <th>1</th>\n      <td>HVM2346</td>\n      <td>麻黄</td>\n      <td>MA HUANG</td>\n      <td>Ephedra</td>\n      <td>Herba Ephedrae</td>\n      <td>Warm; Pungent; Slightly Bitter</td>\n      <td>Lung; Bladder</td>\n      <td>herbaceous twigs</td>\n      <td>To induce perspiration for dispelling cold, to...</td>\n      <td>Wind-cold exterior repletion syndrome, headach...</td>\n      <td>NaN</td>\n      <td>1. Its effects on cardiovascular system are si...</td>\n      <td>Pungent-Warm Exterior-Releasing Medicinal</td>\n      <td>辛温解表药</td>\n      <td>HERB003658</td>\n      <td>SMHB00264</td>\n      <td>1660.0</td>\n      <td>264.0</td>\n      <td>493.0</td>\n      <td>1.00</td>\n    </tr>\n    <tr>\n      <th>2</th>\n      <td>HVM3090</td>\n      <td>沙棘</td>\n      <td>SHA JI</td>\n      <td>fruit of seabuckthorn</td>\n      <td>fructus hippophae</td>\n      <td>Warm; Sour; Punkery</td>\n      <td>Large Intestine; Stomach; Small Intestine; Liver</td>\n      <td>NaN</td>\n      <td>NaN</td>\n      <td>NaN</td>\n      <td>NaN</td>\n      <td>NaN</td>\n      <td>Phlegresolving Medicine</td>\n      <td>化痰药</td>\n      <td>HERB004849</td>\n      <td>SMHB00353</td>\n      <td>6230.0</td>\n      <td>353.0</td>\n      <td>613.0</td>\n      <td>1.00</td>\n    </tr>\n    <tr>\n      <th>3</th>\n      <td>HVM2074</td>\n      <td>辣椒</td>\n      <td>LA JIAO</td>\n      <td>Hot pepper</td>\n      <td>fructus Capsici</td>\n      <td>Hot; Pungent</td>\n      <td>Spleen; Stomach; Heart</td>\n      <td>fruit</td>\n      <td>NaN</td>\n      <td>See Capsicum annuum.</td>\n      <td>NaN</td>\n      <td>NaN</td>\n      <td>External Medicinal (Draw Out Toxin, Resolve Pu...</td>\n      <td>拔毒化腐生肌药</td>\n      <td>HERB003232</td>\n      <td>SMHB00233</td>\n      <td>4112.0</td>\n      <td>233.0</td>\n      <td>437.0</td>\n      <td>1.00</td>\n    </tr>\n    <tr>\n      <th>4</th>\n      <td>HVM0367</td>\n      <td>柴胡</td>\n      <td>CHAI HU</td>\n      <td>root of Chinese Thorowax</td>\n      <td>Radix Bupleuri</td>\n      <td>Minor cold; Pungent; Bitter</td>\n      <td>Liver; Gallbladder</td>\n      <td>root</td>\n      <td>To relieve fever, to soothe the liver, and to ...</td>\n      <td>Common cold, influenza, malaria, acute pancrea...</td>\n      <td>NaN</td>\n      <td>1. Increasing the hypotic effect of barbital i...</td>\n      <td>Pungent Cool Diaphoretics</td>\n      <td>辛凉解表药</td>\n      <td>HERB000638</td>\n      <td>SMHB00058</td>\n      <td>3396.0</td>\n      <td>58.0</td>\n      <td>80.0</td>\n      <td>1.00</td>\n    </tr>\n    <tr>\n      <th>...</th>\n      <td>...</td>\n      <td>...</td>\n      <td>...</td>\n      <td>...</td>\n      <td>...</td>\n      <td>...</td>\n      <td>...</td>\n      <td>...</td>\n      <td>...</td>\n      <td>...</td>\n      <td>...</td>\n      <td>...</td>\n      <td>...</td>\n      <td>...</td>\n      <td>...</td>\n      <td>...</td>\n      <td>...</td>\n      <td>...</td>\n      <td>...</td>\n      <td>...</td>\n    </tr>\n    <tr>\n      <th>1669</th>\n      <td>HVM4436</td>\n      <td>樟树叶</td>\n      <td>ZHANG SHU YE</td>\n      <td>Folium seu Folium Cinnamomi camphorae</td>\n      <td>NaN</td>\n      <td>NaN</td>\n      <td>NaN</td>\n      <td>NaN</td>\n      <td>NaN</td>\n      <td>NaN</td>\n      <td>NaN</td>\n      <td>NaN</td>\n      <td>NaN</td>\n      <td>NaN</td>\n      <td>HERB006934</td>\n      <td>NaN</td>\n      <td>5748.0</td>\n      <td>NaN</td>\n      <td>NaN</td>\n      <td>0.15</td>\n    </tr>\n    <tr>\n      <th>1670</th>\n      <td>HVM0974</td>\n      <td>多穗石柯叶</td>\n      <td>DUO SUI SHI KE YE</td>\n      <td>Manyspike Tanoak Leaf</td>\n      <td>Lithocarpus polystachyus</td>\n      <td>NaN</td>\n      <td>NaN</td>\n      <td>leaf</td>\n      <td>To clear heat and resolve toxin, transform phl...</td>\n      <td>Hypertension, damp-heat diarrhea dysentery, lu...</td>\n      <td>NaN</td>\n      <td>NaN</td>\n      <td>NaN</td>\n      <td>NaN</td>\n      <td>HERB001527</td>\n      <td>NaN</td>\n      <td>3347.0</td>\n      <td>NaN</td>\n      <td>NaN</td>\n      <td>0.15</td>\n    </tr>\n    <tr>\n      <th>1671</th>\n      <td>HVM3712</td>\n      <td>锡兰肉桂</td>\n      <td>XI LAN ROU GUI</td>\n      <td>Ceylon Cinnamon</td>\n      <td>Cinnamomum zeylanicum</td>\n      <td>NaN</td>\n      <td>NaN</td>\n      <td>NaN</td>\n      <td>NaN</td>\n      <td>NaN</td>\n      <td>NaN</td>\n      <td>NaN</td>\n      <td>NaN</td>\n      <td>NaN</td>\n      <td>HERB005843</td>\n      <td>NaN</td>\n      <td>7833.0</td>\n      <td>NaN</td>\n      <td>NaN</td>\n      <td>0.15</td>\n    </tr>\n    <tr>\n      <th>1672</th>\n      <td>HVM2097</td>\n      <td>狼毒</td>\n      <td>LANG DU</td>\n      <td>Chinese Stellera</td>\n      <td>Stellera chamaejasme</td>\n      <td>NaN</td>\n      <td>NaN</td>\n      <td>root</td>\n      <td>To expel water and dispel phlegm, break accumu...</td>\n      <td>Edema distention fullness, a ccumulation from ...</td>\n      <td>NaN</td>\n      <td>NaN</td>\n      <td>NaN</td>\n      <td>NaN</td>\n      <td>HERB003269</td>\n      <td>NaN</td>\n      <td>2090.0</td>\n      <td>NaN</td>\n      <td>NaN</td>\n      <td>0.15</td>\n    </tr>\n    <tr>\n      <th>1673</th>\n      <td>HVM4354</td>\n      <td>月见草</td>\n      <td>YUE JIAN CAO</td>\n      <td>Radix oenotherae erythrosepalae</td>\n      <td>NaN</td>\n      <td>NaN</td>\n      <td>NaN</td>\n      <td>NaN</td>\n      <td>NaN</td>\n      <td>NaN</td>\n      <td>NaN</td>\n      <td>NaN</td>\n      <td>NaN</td>\n      <td>NaN</td>\n      <td>HERB006813</td>\n      <td>NaN</td>\n      <td>7903.0</td>\n      <td>NaN</td>\n      <td>NaN</td>\n      <td>0.15</td>\n    </tr>\n  </tbody>\n</table>\n<p>1674 rows × 20 columns</p>\n</div>"
     },
     "execution_count": 6,
     "metadata": {},
     "output_type": "execute_result"
    }
   ],
   "source": [
    "tcm"
   ],
   "metadata": {
    "collapsed": false,
    "ExecuteTime": {
     "start_time": "2023-04-09T17:09:57.519297Z",
     "end_time": "2023-04-09T17:09:57.541451Z"
    }
   }
  },
  {
   "cell_type": "code",
   "execution_count": 7,
   "outputs": [
    {
     "data": {
      "text/plain": "        HVMID    HVCID\n0     HVM0008  HVC0292\n1     HVM0008  HVC0296\n2     HVM0008  HVC5451\n3     HVM0009  HVC0085\n4     HVM0010  HVC0101\n...       ...      ...\n6510  HVM4656  HVC0647\n6511  HVM4657  HVC0292\n6512  HVM4657  HVC0060\n6513  HVM4657  HVC0085\n6514  HVM4658  HVC0060\n\n[6515 rows x 2 columns]",
      "text/html": "<div>\n<style scoped>\n    .dataframe tbody tr th:only-of-type {\n        vertical-align: middle;\n    }\n\n    .dataframe tbody tr th {\n        vertical-align: top;\n    }\n\n    .dataframe thead th {\n        text-align: right;\n    }\n</style>\n<table border=\"1\" class=\"dataframe\">\n  <thead>\n    <tr style=\"text-align: right;\">\n      <th></th>\n      <th>HVMID</th>\n      <th>HVCID</th>\n    </tr>\n  </thead>\n  <tbody>\n    <tr>\n      <th>0</th>\n      <td>HVM0008</td>\n      <td>HVC0292</td>\n    </tr>\n    <tr>\n      <th>1</th>\n      <td>HVM0008</td>\n      <td>HVC0296</td>\n    </tr>\n    <tr>\n      <th>2</th>\n      <td>HVM0008</td>\n      <td>HVC5451</td>\n    </tr>\n    <tr>\n      <th>3</th>\n      <td>HVM0009</td>\n      <td>HVC0085</td>\n    </tr>\n    <tr>\n      <th>4</th>\n      <td>HVM0010</td>\n      <td>HVC0101</td>\n    </tr>\n    <tr>\n      <th>...</th>\n      <td>...</td>\n      <td>...</td>\n    </tr>\n    <tr>\n      <th>6510</th>\n      <td>HVM4656</td>\n      <td>HVC0647</td>\n    </tr>\n    <tr>\n      <th>6511</th>\n      <td>HVM4657</td>\n      <td>HVC0292</td>\n    </tr>\n    <tr>\n      <th>6512</th>\n      <td>HVM4657</td>\n      <td>HVC0060</td>\n    </tr>\n    <tr>\n      <th>6513</th>\n      <td>HVM4657</td>\n      <td>HVC0085</td>\n    </tr>\n    <tr>\n      <th>6514</th>\n      <td>HVM4658</td>\n      <td>HVC0060</td>\n    </tr>\n  </tbody>\n</table>\n<p>6515 rows × 2 columns</p>\n</div>"
     },
     "execution_count": 7,
     "metadata": {},
     "output_type": "execute_result"
    }
   ],
   "source": [
    "tcm_chem_links"
   ],
   "metadata": {
    "collapsed": false,
    "ExecuteTime": {
     "start_time": "2023-04-09T17:10:01.703384Z",
     "end_time": "2023-04-09T17:10:01.760199Z"
    }
   }
  },
  {
   "cell_type": "code",
   "execution_count": 8,
   "outputs": [
    {
     "data": {
      "text/plain": "       HVCID       Ensembl_ID  Combined_score\n0    HVC6728  ENSP00000398698           0.152\n1    HVC6130  ENSP00000398698           0.274\n2    HVC6041  ENSP00000398698           0.156\n3    HVC6021  ENSP00000398698           0.840\n4    HVC5582  ENSP00000398698           0.800\n..       ...              ...             ...\n219  HVC0026  ENSP00000398698           0.250\n220  HVC0025  ENSP00000398698           0.319\n221  HVC0024  ENSP00000398698           0.188\n222  HVC0011  ENSP00000398698           0.247\n223  HVC0004  ENSP00000398698           0.725\n\n[224 rows x 3 columns]",
      "text/html": "<div>\n<style scoped>\n    .dataframe tbody tr th:only-of-type {\n        vertical-align: middle;\n    }\n\n    .dataframe tbody tr th {\n        vertical-align: top;\n    }\n\n    .dataframe thead th {\n        text-align: right;\n    }\n</style>\n<table border=\"1\" class=\"dataframe\">\n  <thead>\n    <tr style=\"text-align: right;\">\n      <th></th>\n      <th>HVCID</th>\n      <th>Ensembl_ID</th>\n      <th>Combined_score</th>\n    </tr>\n  </thead>\n  <tbody>\n    <tr>\n      <th>0</th>\n      <td>HVC6728</td>\n      <td>ENSP00000398698</td>\n      <td>0.152</td>\n    </tr>\n    <tr>\n      <th>1</th>\n      <td>HVC6130</td>\n      <td>ENSP00000398698</td>\n      <td>0.274</td>\n    </tr>\n    <tr>\n      <th>2</th>\n      <td>HVC6041</td>\n      <td>ENSP00000398698</td>\n      <td>0.156</td>\n    </tr>\n    <tr>\n      <th>3</th>\n      <td>HVC6021</td>\n      <td>ENSP00000398698</td>\n      <td>0.840</td>\n    </tr>\n    <tr>\n      <th>4</th>\n      <td>HVC5582</td>\n      <td>ENSP00000398698</td>\n      <td>0.800</td>\n    </tr>\n    <tr>\n      <th>...</th>\n      <td>...</td>\n      <td>...</td>\n      <td>...</td>\n    </tr>\n    <tr>\n      <th>219</th>\n      <td>HVC0026</td>\n      <td>ENSP00000398698</td>\n      <td>0.250</td>\n    </tr>\n    <tr>\n      <th>220</th>\n      <td>HVC0025</td>\n      <td>ENSP00000398698</td>\n      <td>0.319</td>\n    </tr>\n    <tr>\n      <th>221</th>\n      <td>HVC0024</td>\n      <td>ENSP00000398698</td>\n      <td>0.188</td>\n    </tr>\n    <tr>\n      <th>222</th>\n      <td>HVC0011</td>\n      <td>ENSP00000398698</td>\n      <td>0.247</td>\n    </tr>\n    <tr>\n      <th>223</th>\n      <td>HVC0004</td>\n      <td>ENSP00000398698</td>\n      <td>0.725</td>\n    </tr>\n  </tbody>\n</table>\n<p>224 rows × 3 columns</p>\n</div>"
     },
     "execution_count": 8,
     "metadata": {},
     "output_type": "execute_result"
    }
   ],
   "source": [
    "chem_protein_links"
   ],
   "metadata": {
    "collapsed": false,
    "ExecuteTime": {
     "start_time": "2023-04-09T17:10:07.900346Z",
     "end_time": "2023-04-09T17:10:07.944246Z"
    }
   }
  },
  {
   "cell_type": "code",
   "execution_count": null,
   "outputs": [],
   "source": [],
   "metadata": {
    "collapsed": false
   }
  }
 ],
 "metadata": {
  "kernelspec": {
   "display_name": "Python 3",
   "language": "python",
   "name": "python3"
  },
  "language_info": {
   "codemirror_mode": {
    "name": "ipython",
    "version": 2
   },
   "file_extension": ".py",
   "mimetype": "text/x-python",
   "name": "python",
   "nbconvert_exporter": "python",
   "pygments_lexer": "ipython2",
   "version": "2.7.6"
  }
 },
 "nbformat": 4,
 "nbformat_minor": 0
}
